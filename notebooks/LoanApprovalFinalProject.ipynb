{
 "cells": [
  {
   "cell_type": "markdown",
   "id": "6c7d5809-25ab-479d-9e95-e01c65594541",
   "metadata": {},
   "source": [
    "### MODEL 1: Logistic Regression with a few numerical features"
   ]
  },
  {
   "cell_type": "code",
   "execution_count": 215,
   "id": "32b99e1d-f43d-4997-944d-a379b7e8e8bc",
   "metadata": {},
   "outputs": [],
   "source": [
    "import pandas as pd\n",
    "import numpy as np\n",
    "import matplotlib.pyplot as plt\n",
    "import statsmodels.api as sm"
   ]
  },
  {
   "cell_type": "code",
   "execution_count": 216,
   "id": "f77c3611-0aa5-48a6-ab6e-5fd181afe38a",
   "metadata": {},
   "outputs": [],
   "source": [
    "from functools import partial"
   ]
  },
  {
   "cell_type": "code",
   "execution_count": 217,
   "id": "cfd2d637-d6dd-4b81-9633-daad23ab6c46",
   "metadata": {},
   "outputs": [],
   "source": [
    "import warnings\n",
    "warnings.filterwarnings(\"ignore\")"
   ]
  },
  {
   "cell_type": "code",
   "execution_count": 218,
   "id": "e50d2547-f9d4-477b-bc1b-15bc21f66344",
   "metadata": {},
   "outputs": [
    {
     "name": "stdout",
     "output_type": "stream",
     "text": [
      "envs Loaded\n"
     ]
    }
   ],
   "source": [
    "from dotenv import load_dotenv\n",
    "\n",
    "from pathlib import Path\n",
    "\n",
    "env_path = Path(\"../../.env-live\")\n",
    "\n",
    "if env_path.exists():\n",
    "    print('envs Loaded')\n",
    "    load_dotenv(dotenv_path=env_path)\n",
    "from jrjModelRegistry.jrjModelRegistry import registerAJrjModel"
   ]
  },
  {
   "cell_type": "code",
   "execution_count": 219,
   "id": "782cadd2-e5e2-471e-b330-c99fc1495787",
   "metadata": {},
   "outputs": [
    {
     "name": "stdout",
     "output_type": "stream",
     "text": [
      "C:\\Users\\User\\live-class-codes\\.env-live\n",
      "True\n"
     ]
    }
   ],
   "source": [
    "print(env_path.resolve())\n",
    "print(env_path.exists())"
   ]
  },
  {
   "cell_type": "code",
   "execution_count": 220,
   "id": "f4670480-a1d0-410d-ae11-1fdfe6ed87a4",
   "metadata": {},
   "outputs": [
    {
     "name": "stdout",
     "output_type": "stream",
     "text": [
      "S3 region: ca-central-1\n"
     ]
    }
   ],
   "source": [
    "import os\n",
    "print(\"S3 region:\", os.getenv(\"JRJ_MODEL_REGISTRY_S3_REGION\"))"
   ]
  },
  {
   "cell_type": "code",
   "execution_count": 221,
   "id": "9af64b12-0fe8-478e-ab32-0a7dc578f294",
   "metadata": {},
   "outputs": [
    {
     "name": "stdout",
     "output_type": "stream",
     "text": [
      "C:\\Users\\User\\live-class-codes\\live-class-codes\\notebooks\n"
     ]
    }
   ],
   "source": [
    "import os\n",
    "print(os.getcwd())"
   ]
  },
  {
   "cell_type": "code",
   "execution_count": 222,
   "id": "41fb8e07-cb12-4a96-b9d5-6e24315767d1",
   "metadata": {},
   "outputs": [
    {
     "data": {
      "text/plain": [
       "'ca-central-1'"
      ]
     },
     "execution_count": 222,
     "metadata": {},
     "output_type": "execute_result"
    }
   ],
   "source": [
    "os.getenv(\"JRJ_MODEL_REGISTRY_S3_REGION\", \"JRJ_MODEL_REGISTRY_S3_REGION\")"
   ]
  },
  {
   "cell_type": "code",
   "execution_count": 223,
   "id": "ed56a594-5771-4c08-a9a7-3a9ebccc8a2e",
   "metadata": {},
   "outputs": [],
   "source": [
    "def generalRegressionPredictor(self, transformedData):\n",
    "    return self.predict(transformedData)"
   ]
  },
  {
   "cell_type": "code",
   "execution_count": 224,
   "id": "c55106ba-457a-4c70-9280-e8dd150811fe",
   "metadata": {},
   "outputs": [
    {
     "name": "stdout",
     "output_type": "stream",
     "text": [
      "s3.ca-central-1.wasabisys.com/273-g3\n"
     ]
    }
   ],
   "source": [
    "import os\n",
    "print(os.environ.get('JRJ_MODEL_REGISTRY_S3_ENDPOINT', \"Not Found\"))"
   ]
  },
  {
   "cell_type": "code",
   "execution_count": 225,
   "id": "61251bec-6317-4a35-896e-a634425e30da",
   "metadata": {},
   "outputs": [
    {
     "name": "stdout",
     "output_type": "stream",
     "text": [
      "Region loaded from .env: ca-central-1\n"
     ]
    }
   ],
   "source": [
    "import os\n",
    "\n",
    "region = os.getenv(\"JRJ_MODEL_REGISTRY_S3_REGION\")\n",
    "print(\"Region loaded from .env:\", region)\n",
    "\n",
    "if not region or region == \"JRJ_MODEL_REGISTRY_S3_REGION\":\n",
    "    raise ValueError(\"JRJ_MODEL_REGISTRY_S3_REGION is missing or not loaded correctly!\")"
   ]
  },
  {
   "cell_type": "code",
   "execution_count": 226,
   "id": "4b778de4-4bd9-48b1-9f89-42db5d891d1d",
   "metadata": {},
   "outputs": [],
   "source": [
    "LoanDf = pd.read_csv(\"./Dataset for Final Project/Loan_Approval.csv\")"
   ]
  },
  {
   "cell_type": "code",
   "execution_count": 227,
   "id": "93123889-4fb4-4599-8a63-c1d0c4f46670",
   "metadata": {},
   "outputs": [
    {
     "data": {
      "text/html": [
       "<div>\n",
       "<style scoped>\n",
       "    .dataframe tbody tr th:only-of-type {\n",
       "        vertical-align: middle;\n",
       "    }\n",
       "\n",
       "    .dataframe tbody tr th {\n",
       "        vertical-align: top;\n",
       "    }\n",
       "\n",
       "    .dataframe thead th {\n",
       "        text-align: right;\n",
       "    }\n",
       "</style>\n",
       "<table border=\"1\" class=\"dataframe\">\n",
       "  <thead>\n",
       "    <tr style=\"text-align: right;\">\n",
       "      <th></th>\n",
       "      <th>person_age</th>\n",
       "      <th>person_gender</th>\n",
       "      <th>person_education</th>\n",
       "      <th>person_income</th>\n",
       "      <th>person_emp_exp</th>\n",
       "      <th>person_home_ownership</th>\n",
       "      <th>loan_amnt</th>\n",
       "      <th>loan_intent</th>\n",
       "      <th>loan_int_rate</th>\n",
       "      <th>loan_percent_income</th>\n",
       "      <th>cb_person_cred_hist_length</th>\n",
       "      <th>credit_score</th>\n",
       "      <th>previous_loan_defaults_on_file</th>\n",
       "      <th>loan_status</th>\n",
       "    </tr>\n",
       "  </thead>\n",
       "  <tbody>\n",
       "    <tr>\n",
       "      <th>0</th>\n",
       "      <td>22</td>\n",
       "      <td>female</td>\n",
       "      <td>Master</td>\n",
       "      <td>71948</td>\n",
       "      <td>0</td>\n",
       "      <td>RENT</td>\n",
       "      <td>35000</td>\n",
       "      <td>PERSONAL</td>\n",
       "      <td>16.02</td>\n",
       "      <td>0.49</td>\n",
       "      <td>3</td>\n",
       "      <td>561</td>\n",
       "      <td>No</td>\n",
       "      <td>1</td>\n",
       "    </tr>\n",
       "    <tr>\n",
       "      <th>1</th>\n",
       "      <td>21</td>\n",
       "      <td>female</td>\n",
       "      <td>High School</td>\n",
       "      <td>12282</td>\n",
       "      <td>0</td>\n",
       "      <td>OWN</td>\n",
       "      <td>1000</td>\n",
       "      <td>EDUCATION</td>\n",
       "      <td>11.14</td>\n",
       "      <td>0.08</td>\n",
       "      <td>2</td>\n",
       "      <td>504</td>\n",
       "      <td>Yes</td>\n",
       "      <td>0</td>\n",
       "    </tr>\n",
       "    <tr>\n",
       "      <th>2</th>\n",
       "      <td>25</td>\n",
       "      <td>female</td>\n",
       "      <td>High School</td>\n",
       "      <td>12438</td>\n",
       "      <td>3</td>\n",
       "      <td>MORTGAGE</td>\n",
       "      <td>5500</td>\n",
       "      <td>MEDICAL</td>\n",
       "      <td>12.87</td>\n",
       "      <td>0.44</td>\n",
       "      <td>3</td>\n",
       "      <td>635</td>\n",
       "      <td>No</td>\n",
       "      <td>1</td>\n",
       "    </tr>\n",
       "    <tr>\n",
       "      <th>3</th>\n",
       "      <td>23</td>\n",
       "      <td>female</td>\n",
       "      <td>Bachelor</td>\n",
       "      <td>79753</td>\n",
       "      <td>0</td>\n",
       "      <td>RENT</td>\n",
       "      <td>35000</td>\n",
       "      <td>MEDICAL</td>\n",
       "      <td>15.23</td>\n",
       "      <td>0.44</td>\n",
       "      <td>2</td>\n",
       "      <td>675</td>\n",
       "      <td>No</td>\n",
       "      <td>1</td>\n",
       "    </tr>\n",
       "    <tr>\n",
       "      <th>4</th>\n",
       "      <td>24</td>\n",
       "      <td>male</td>\n",
       "      <td>Master</td>\n",
       "      <td>66135</td>\n",
       "      <td>1</td>\n",
       "      <td>RENT</td>\n",
       "      <td>35000</td>\n",
       "      <td>MEDICAL</td>\n",
       "      <td>14.27</td>\n",
       "      <td>0.53</td>\n",
       "      <td>4</td>\n",
       "      <td>586</td>\n",
       "      <td>No</td>\n",
       "      <td>1</td>\n",
       "    </tr>\n",
       "    <tr>\n",
       "      <th>5</th>\n",
       "      <td>21</td>\n",
       "      <td>female</td>\n",
       "      <td>High School</td>\n",
       "      <td>12951</td>\n",
       "      <td>0</td>\n",
       "      <td>OWN</td>\n",
       "      <td>2500</td>\n",
       "      <td>VENTURE</td>\n",
       "      <td>7.14</td>\n",
       "      <td>0.19</td>\n",
       "      <td>2</td>\n",
       "      <td>532</td>\n",
       "      <td>No</td>\n",
       "      <td>1</td>\n",
       "    </tr>\n",
       "    <tr>\n",
       "      <th>6</th>\n",
       "      <td>26</td>\n",
       "      <td>female</td>\n",
       "      <td>Bachelor</td>\n",
       "      <td>93471</td>\n",
       "      <td>1</td>\n",
       "      <td>RENT</td>\n",
       "      <td>35000</td>\n",
       "      <td>EDUCATION</td>\n",
       "      <td>12.42</td>\n",
       "      <td>0.37</td>\n",
       "      <td>3</td>\n",
       "      <td>701</td>\n",
       "      <td>No</td>\n",
       "      <td>1</td>\n",
       "    </tr>\n",
       "    <tr>\n",
       "      <th>7</th>\n",
       "      <td>24</td>\n",
       "      <td>female</td>\n",
       "      <td>High School</td>\n",
       "      <td>95550</td>\n",
       "      <td>5</td>\n",
       "      <td>RENT</td>\n",
       "      <td>35000</td>\n",
       "      <td>MEDICAL</td>\n",
       "      <td>11.11</td>\n",
       "      <td>0.37</td>\n",
       "      <td>4</td>\n",
       "      <td>585</td>\n",
       "      <td>No</td>\n",
       "      <td>1</td>\n",
       "    </tr>\n",
       "    <tr>\n",
       "      <th>8</th>\n",
       "      <td>24</td>\n",
       "      <td>female</td>\n",
       "      <td>Associate</td>\n",
       "      <td>100684</td>\n",
       "      <td>3</td>\n",
       "      <td>RENT</td>\n",
       "      <td>35000</td>\n",
       "      <td>PERSONAL</td>\n",
       "      <td>8.90</td>\n",
       "      <td>0.35</td>\n",
       "      <td>2</td>\n",
       "      <td>544</td>\n",
       "      <td>No</td>\n",
       "      <td>1</td>\n",
       "    </tr>\n",
       "    <tr>\n",
       "      <th>9</th>\n",
       "      <td>21</td>\n",
       "      <td>female</td>\n",
       "      <td>High School</td>\n",
       "      <td>12739</td>\n",
       "      <td>0</td>\n",
       "      <td>OWN</td>\n",
       "      <td>1600</td>\n",
       "      <td>VENTURE</td>\n",
       "      <td>14.74</td>\n",
       "      <td>0.13</td>\n",
       "      <td>3</td>\n",
       "      <td>640</td>\n",
       "      <td>No</td>\n",
       "      <td>1</td>\n",
       "    </tr>\n",
       "  </tbody>\n",
       "</table>\n",
       "</div>"
      ],
      "text/plain": [
       "   person_age person_gender person_education  person_income  person_emp_exp  \\\n",
       "0          22        female           Master          71948               0   \n",
       "1          21        female      High School          12282               0   \n",
       "2          25        female      High School          12438               3   \n",
       "3          23        female         Bachelor          79753               0   \n",
       "4          24          male           Master          66135               1   \n",
       "5          21        female      High School          12951               0   \n",
       "6          26        female         Bachelor          93471               1   \n",
       "7          24        female      High School          95550               5   \n",
       "8          24        female        Associate         100684               3   \n",
       "9          21        female      High School          12739               0   \n",
       "\n",
       "  person_home_ownership  loan_amnt loan_intent  loan_int_rate  \\\n",
       "0                  RENT      35000    PERSONAL          16.02   \n",
       "1                   OWN       1000   EDUCATION          11.14   \n",
       "2              MORTGAGE       5500     MEDICAL          12.87   \n",
       "3                  RENT      35000     MEDICAL          15.23   \n",
       "4                  RENT      35000     MEDICAL          14.27   \n",
       "5                   OWN       2500     VENTURE           7.14   \n",
       "6                  RENT      35000   EDUCATION          12.42   \n",
       "7                  RENT      35000     MEDICAL          11.11   \n",
       "8                  RENT      35000    PERSONAL           8.90   \n",
       "9                   OWN       1600     VENTURE          14.74   \n",
       "\n",
       "   loan_percent_income  cb_person_cred_hist_length  credit_score  \\\n",
       "0                 0.49                           3           561   \n",
       "1                 0.08                           2           504   \n",
       "2                 0.44                           3           635   \n",
       "3                 0.44                           2           675   \n",
       "4                 0.53                           4           586   \n",
       "5                 0.19                           2           532   \n",
       "6                 0.37                           3           701   \n",
       "7                 0.37                           4           585   \n",
       "8                 0.35                           2           544   \n",
       "9                 0.13                           3           640   \n",
       "\n",
       "  previous_loan_defaults_on_file  loan_status  \n",
       "0                             No            1  \n",
       "1                            Yes            0  \n",
       "2                             No            1  \n",
       "3                             No            1  \n",
       "4                             No            1  \n",
       "5                             No            1  \n",
       "6                             No            1  \n",
       "7                             No            1  \n",
       "8                             No            1  \n",
       "9                             No            1  "
      ]
     },
     "execution_count": 227,
     "metadata": {},
     "output_type": "execute_result"
    }
   ],
   "source": [
    "LoanDf.head(10)"
   ]
  },
  {
   "cell_type": "code",
   "execution_count": 228,
   "id": "56e6553d-836b-4b50-b217-d767719e2c8c",
   "metadata": {},
   "outputs": [
    {
     "data": {
      "text/plain": [
       "(45000, 14)"
      ]
     },
     "execution_count": 228,
     "metadata": {},
     "output_type": "execute_result"
    }
   ],
   "source": [
    "LoanDf.shape # our dataframe contains 45000 rows and 14 columns/attributes"
   ]
  },
  {
   "cell_type": "code",
   "execution_count": 229,
   "id": "47eed813-c54e-4d76-8244-f08f5c0afaac",
   "metadata": {},
   "outputs": [
    {
     "data": {
      "text/plain": [
       "person_age                        0\n",
       "person_gender                     0\n",
       "person_education                  0\n",
       "person_income                     0\n",
       "person_emp_exp                    0\n",
       "person_home_ownership             0\n",
       "loan_amnt                         0\n",
       "loan_intent                       0\n",
       "loan_int_rate                     0\n",
       "loan_percent_income               0\n",
       "cb_person_cred_hist_length        0\n",
       "credit_score                      0\n",
       "previous_loan_defaults_on_file    0\n",
       "loan_status                       0\n",
       "dtype: int64"
      ]
     },
     "execution_count": 229,
     "metadata": {},
     "output_type": "execute_result"
    }
   ],
   "source": [
    "LoanDf.isnull().sum() # no missing values in our DF"
   ]
  },
  {
   "cell_type": "code",
   "execution_count": 230,
   "id": "dd0fe407-267e-4ab0-8708-435a335d5a95",
   "metadata": {},
   "outputs": [
    {
     "data": {
      "text/html": [
       "<div>\n",
       "<style scoped>\n",
       "    .dataframe tbody tr th:only-of-type {\n",
       "        vertical-align: middle;\n",
       "    }\n",
       "\n",
       "    .dataframe tbody tr th {\n",
       "        vertical-align: top;\n",
       "    }\n",
       "\n",
       "    .dataframe thead th {\n",
       "        text-align: right;\n",
       "    }\n",
       "</style>\n",
       "<table border=\"1\" class=\"dataframe\">\n",
       "  <thead>\n",
       "    <tr style=\"text-align: right;\">\n",
       "      <th></th>\n",
       "      <th>person_age</th>\n",
       "      <th>person_gender</th>\n",
       "      <th>person_education</th>\n",
       "      <th>person_income</th>\n",
       "      <th>person_emp_exp</th>\n",
       "      <th>person_home_ownership</th>\n",
       "      <th>loan_amnt</th>\n",
       "      <th>loan_intent</th>\n",
       "      <th>loan_int_rate</th>\n",
       "      <th>loan_percent_income</th>\n",
       "      <th>cb_person_cred_hist_length</th>\n",
       "      <th>credit_score</th>\n",
       "      <th>previous_loan_defaults_on_file</th>\n",
       "      <th>loan_status</th>\n",
       "    </tr>\n",
       "  </thead>\n",
       "  <tbody>\n",
       "    <tr>\n",
       "      <th>81</th>\n",
       "      <td>144</td>\n",
       "      <td>male</td>\n",
       "      <td>Bachelor</td>\n",
       "      <td>300616</td>\n",
       "      <td>125</td>\n",
       "      <td>RENT</td>\n",
       "      <td>4800</td>\n",
       "      <td>VENTURE</td>\n",
       "      <td>13.57</td>\n",
       "      <td>0.02</td>\n",
       "      <td>3</td>\n",
       "      <td>789</td>\n",
       "      <td>No</td>\n",
       "      <td>0</td>\n",
       "    </tr>\n",
       "    <tr>\n",
       "      <th>183</th>\n",
       "      <td>144</td>\n",
       "      <td>male</td>\n",
       "      <td>Associate</td>\n",
       "      <td>241424</td>\n",
       "      <td>121</td>\n",
       "      <td>MORTGAGE</td>\n",
       "      <td>6000</td>\n",
       "      <td>EDUCATION</td>\n",
       "      <td>11.86</td>\n",
       "      <td>0.02</td>\n",
       "      <td>2</td>\n",
       "      <td>807</td>\n",
       "      <td>No</td>\n",
       "      <td>0</td>\n",
       "    </tr>\n",
       "    <tr>\n",
       "      <th>575</th>\n",
       "      <td>123</td>\n",
       "      <td>female</td>\n",
       "      <td>High School</td>\n",
       "      <td>97140</td>\n",
       "      <td>101</td>\n",
       "      <td>RENT</td>\n",
       "      <td>20400</td>\n",
       "      <td>EDUCATION</td>\n",
       "      <td>10.25</td>\n",
       "      <td>0.21</td>\n",
       "      <td>3</td>\n",
       "      <td>805</td>\n",
       "      <td>Yes</td>\n",
       "      <td>0</td>\n",
       "    </tr>\n",
       "    <tr>\n",
       "      <th>747</th>\n",
       "      <td>123</td>\n",
       "      <td>male</td>\n",
       "      <td>Bachelor</td>\n",
       "      <td>94723</td>\n",
       "      <td>100</td>\n",
       "      <td>RENT</td>\n",
       "      <td>20000</td>\n",
       "      <td>VENTURE</td>\n",
       "      <td>11.01</td>\n",
       "      <td>0.21</td>\n",
       "      <td>4</td>\n",
       "      <td>714</td>\n",
       "      <td>Yes</td>\n",
       "      <td>0</td>\n",
       "    </tr>\n",
       "    <tr>\n",
       "      <th>32297</th>\n",
       "      <td>144</td>\n",
       "      <td>female</td>\n",
       "      <td>Associate</td>\n",
       "      <td>7200766</td>\n",
       "      <td>124</td>\n",
       "      <td>MORTGAGE</td>\n",
       "      <td>5000</td>\n",
       "      <td>PERSONAL</td>\n",
       "      <td>12.73</td>\n",
       "      <td>0.00</td>\n",
       "      <td>25</td>\n",
       "      <td>850</td>\n",
       "      <td>No</td>\n",
       "      <td>0</td>\n",
       "    </tr>\n",
       "    <tr>\n",
       "      <th>37930</th>\n",
       "      <td>116</td>\n",
       "      <td>male</td>\n",
       "      <td>Bachelor</td>\n",
       "      <td>5545545</td>\n",
       "      <td>93</td>\n",
       "      <td>MORTGAGE</td>\n",
       "      <td>3823</td>\n",
       "      <td>VENTURE</td>\n",
       "      <td>12.15</td>\n",
       "      <td>0.00</td>\n",
       "      <td>24</td>\n",
       "      <td>708</td>\n",
       "      <td>No</td>\n",
       "      <td>0</td>\n",
       "    </tr>\n",
       "    <tr>\n",
       "      <th>38113</th>\n",
       "      <td>109</td>\n",
       "      <td>male</td>\n",
       "      <td>High School</td>\n",
       "      <td>5556399</td>\n",
       "      <td>85</td>\n",
       "      <td>MORTGAGE</td>\n",
       "      <td>6195</td>\n",
       "      <td>VENTURE</td>\n",
       "      <td>12.58</td>\n",
       "      <td>0.00</td>\n",
       "      <td>22</td>\n",
       "      <td>792</td>\n",
       "      <td>No</td>\n",
       "      <td>0</td>\n",
       "    </tr>\n",
       "  </tbody>\n",
       "</table>\n",
       "</div>"
      ],
      "text/plain": [
       "       person_age person_gender person_education  person_income  \\\n",
       "81            144          male         Bachelor         300616   \n",
       "183           144          male        Associate         241424   \n",
       "575           123        female      High School          97140   \n",
       "747           123          male         Bachelor          94723   \n",
       "32297         144        female        Associate        7200766   \n",
       "37930         116          male         Bachelor        5545545   \n",
       "38113         109          male      High School        5556399   \n",
       "\n",
       "       person_emp_exp person_home_ownership  loan_amnt loan_intent  \\\n",
       "81                125                  RENT       4800     VENTURE   \n",
       "183               121              MORTGAGE       6000   EDUCATION   \n",
       "575               101                  RENT      20400   EDUCATION   \n",
       "747               100                  RENT      20000     VENTURE   \n",
       "32297             124              MORTGAGE       5000    PERSONAL   \n",
       "37930              93              MORTGAGE       3823     VENTURE   \n",
       "38113              85              MORTGAGE       6195     VENTURE   \n",
       "\n",
       "       loan_int_rate  loan_percent_income  cb_person_cred_hist_length  \\\n",
       "81             13.57                 0.02                           3   \n",
       "183            11.86                 0.02                           2   \n",
       "575            10.25                 0.21                           3   \n",
       "747            11.01                 0.21                           4   \n",
       "32297          12.73                 0.00                          25   \n",
       "37930          12.15                 0.00                          24   \n",
       "38113          12.58                 0.00                          22   \n",
       "\n",
       "       credit_score previous_loan_defaults_on_file  loan_status  \n",
       "81              789                             No            0  \n",
       "183             807                             No            0  \n",
       "575             805                            Yes            0  \n",
       "747             714                            Yes            0  \n",
       "32297           850                             No            0  \n",
       "37930           708                             No            0  \n",
       "38113           792                             No            0  "
      ]
     },
     "execution_count": 230,
     "metadata": {},
     "output_type": "execute_result"
    }
   ],
   "source": [
    "LoanDf[LoanDf['person_age'] > 100] # checking if people aged >100 have a 0 loan status. We are not going to delete the rows where age >100"
   ]
  },
  {
   "cell_type": "code",
   "execution_count": 231,
   "id": "d848b1a2-bfab-40e3-9874-b1bf95e8e99e",
   "metadata": {},
   "outputs": [],
   "source": [
    "LoanDf.drop(LoanDf[LoanDf['person_age'] > 100].index, inplace=True)"
   ]
  },
  {
   "cell_type": "code",
   "execution_count": 254,
   "id": "82489fe0-a29a-44d4-8a31-f31033e57ca9",
   "metadata": {},
   "outputs": [
    {
     "name": "stdout",
     "output_type": "stream",
     "text": [
      "Index(['person_age', 'person_income', 'person_emp_exp', 'loan_amnt',\n",
      "       'loan_intent', 'loan_int_rate', 'loan_percent_income',\n",
      "       'cb_person_cred_hist_length', 'credit_score', 'loan_status',\n",
      "       'person_gender_male', 'person_education_Bachelor',\n",
      "       'person_education_Doctorate', 'person_education_High School',\n",
      "       'person_education_Master', 'person_home_ownership_OTHER',\n",
      "       'person_home_ownership_OWN', 'person_home_ownership_RENT',\n",
      "       'previous_loan_defaults_on_file_Yes'],\n",
      "      dtype='object')\n"
     ]
    }
   ],
   "source": [
    "print(LoanDf_encoded.columns)"
   ]
  },
  {
   "cell_type": "code",
   "execution_count": 22,
   "id": "78cb125d-6de4-4000-a87d-cc636592cf25",
   "metadata": {},
   "outputs": [
    {
     "name": "stdout",
     "output_type": "stream",
     "text": [
      "All ages are 100 or less.\n"
     ]
    }
   ],
   "source": [
    "# Check if the rows where age > 100 have been deleted\n",
    "if (LoanDf['person_age'] > 100).any():\n",
    "    print(\"There are ages exceeding 100.\")\n",
    "else:\n",
    "    print(\"All ages are 100 or less.\")"
   ]
  },
  {
   "cell_type": "code",
   "execution_count": 232,
   "id": "5f50188e-2805-4952-bb5f-6de6e578fbbb",
   "metadata": {},
   "outputs": [
    {
     "name": "stdout",
     "output_type": "stream",
     "text": [
      "<class 'pandas.core.frame.DataFrame'>\n",
      "Index: 44993 entries, 0 to 44999\n",
      "Data columns (total 14 columns):\n",
      " #   Column                          Non-Null Count  Dtype  \n",
      "---  ------                          --------------  -----  \n",
      " 0   person_age                      44993 non-null  int64  \n",
      " 1   person_gender                   44993 non-null  object \n",
      " 2   person_education                44993 non-null  object \n",
      " 3   person_income                   44993 non-null  int64  \n",
      " 4   person_emp_exp                  44993 non-null  int64  \n",
      " 5   person_home_ownership           44993 non-null  object \n",
      " 6   loan_amnt                       44993 non-null  int64  \n",
      " 7   loan_intent                     44993 non-null  object \n",
      " 8   loan_int_rate                   44993 non-null  float64\n",
      " 9   loan_percent_income             44993 non-null  float64\n",
      " 10  cb_person_cred_hist_length      44993 non-null  int64  \n",
      " 11  credit_score                    44993 non-null  int64  \n",
      " 12  previous_loan_defaults_on_file  44993 non-null  object \n",
      " 13  loan_status                     44993 non-null  int64  \n",
      "dtypes: float64(2), int64(7), object(5)\n",
      "memory usage: 5.1+ MB\n"
     ]
    }
   ],
   "source": [
    "LoanDf.info()"
   ]
  },
  {
   "cell_type": "code",
   "execution_count": 233,
   "id": "31a6e4d0-32b7-4cbd-aed2-3d644f36e98d",
   "metadata": {},
   "outputs": [
    {
     "name": "stdout",
     "output_type": "stream",
     "text": [
      "Index(['person_age', 'person_income', 'person_emp_exp', 'loan_amnt',\n",
      "       'loan_intent', 'loan_int_rate', 'loan_percent_income',\n",
      "       'cb_person_cred_hist_length', 'credit_score', 'loan_status',\n",
      "       'person_gender_male', 'person_education_Bachelor',\n",
      "       'person_education_Doctorate', 'person_education_High School',\n",
      "       'person_education_Master', 'person_home_ownership_OTHER',\n",
      "       'person_home_ownership_OWN', 'person_home_ownership_RENT',\n",
      "       'previous_loan_defaults_on_file_Yes'],\n",
      "      dtype='object')\n"
     ]
    }
   ],
   "source": [
    "categorical_cols = [\n",
    "    'person_gender',\n",
    "    'person_education',\n",
    "    'person_home_ownership',\n",
    "    'previous_loan_defaults_on_file'\n",
    "]\n",
    "\n",
    "# Assuming your DataFrame is called df\n",
    "LoanDf_encoded = pd.get_dummies(LoanDf, columns=categorical_cols, drop_first=True)\n",
    "\n",
    "print(LoanDf_encoded.columns)"
   ]
  },
  {
   "cell_type": "code",
   "execution_count": 234,
   "id": "a8c9bcd4-7cd1-4ca8-a979-e7dda4251ebb",
   "metadata": {},
   "outputs": [
    {
     "data": {
      "text/html": [
       "<div>\n",
       "<style scoped>\n",
       "    .dataframe tbody tr th:only-of-type {\n",
       "        vertical-align: middle;\n",
       "    }\n",
       "\n",
       "    .dataframe tbody tr th {\n",
       "        vertical-align: top;\n",
       "    }\n",
       "\n",
       "    .dataframe thead th {\n",
       "        text-align: right;\n",
       "    }\n",
       "</style>\n",
       "<table border=\"1\" class=\"dataframe\">\n",
       "  <thead>\n",
       "    <tr style=\"text-align: right;\">\n",
       "      <th></th>\n",
       "      <th>person_age</th>\n",
       "      <th>person_income</th>\n",
       "      <th>person_emp_exp</th>\n",
       "      <th>loan_amnt</th>\n",
       "      <th>loan_intent</th>\n",
       "      <th>loan_int_rate</th>\n",
       "      <th>loan_percent_income</th>\n",
       "      <th>cb_person_cred_hist_length</th>\n",
       "      <th>credit_score</th>\n",
       "      <th>loan_status</th>\n",
       "      <th>person_gender_male</th>\n",
       "      <th>person_education_Bachelor</th>\n",
       "      <th>person_education_Doctorate</th>\n",
       "      <th>person_education_High School</th>\n",
       "      <th>person_education_Master</th>\n",
       "      <th>person_home_ownership_OTHER</th>\n",
       "      <th>person_home_ownership_OWN</th>\n",
       "      <th>person_home_ownership_RENT</th>\n",
       "      <th>previous_loan_defaults_on_file_Yes</th>\n",
       "    </tr>\n",
       "  </thead>\n",
       "  <tbody>\n",
       "    <tr>\n",
       "      <th>0</th>\n",
       "      <td>22</td>\n",
       "      <td>71948</td>\n",
       "      <td>0</td>\n",
       "      <td>35000</td>\n",
       "      <td>PERSONAL</td>\n",
       "      <td>16.02</td>\n",
       "      <td>0.49</td>\n",
       "      <td>3</td>\n",
       "      <td>561</td>\n",
       "      <td>1</td>\n",
       "      <td>False</td>\n",
       "      <td>False</td>\n",
       "      <td>False</td>\n",
       "      <td>False</td>\n",
       "      <td>True</td>\n",
       "      <td>False</td>\n",
       "      <td>False</td>\n",
       "      <td>True</td>\n",
       "      <td>False</td>\n",
       "    </tr>\n",
       "    <tr>\n",
       "      <th>1</th>\n",
       "      <td>21</td>\n",
       "      <td>12282</td>\n",
       "      <td>0</td>\n",
       "      <td>1000</td>\n",
       "      <td>EDUCATION</td>\n",
       "      <td>11.14</td>\n",
       "      <td>0.08</td>\n",
       "      <td>2</td>\n",
       "      <td>504</td>\n",
       "      <td>0</td>\n",
       "      <td>False</td>\n",
       "      <td>False</td>\n",
       "      <td>False</td>\n",
       "      <td>True</td>\n",
       "      <td>False</td>\n",
       "      <td>False</td>\n",
       "      <td>True</td>\n",
       "      <td>False</td>\n",
       "      <td>True</td>\n",
       "    </tr>\n",
       "    <tr>\n",
       "      <th>2</th>\n",
       "      <td>25</td>\n",
       "      <td>12438</td>\n",
       "      <td>3</td>\n",
       "      <td>5500</td>\n",
       "      <td>MEDICAL</td>\n",
       "      <td>12.87</td>\n",
       "      <td>0.44</td>\n",
       "      <td>3</td>\n",
       "      <td>635</td>\n",
       "      <td>1</td>\n",
       "      <td>False</td>\n",
       "      <td>False</td>\n",
       "      <td>False</td>\n",
       "      <td>True</td>\n",
       "      <td>False</td>\n",
       "      <td>False</td>\n",
       "      <td>False</td>\n",
       "      <td>False</td>\n",
       "      <td>False</td>\n",
       "    </tr>\n",
       "    <tr>\n",
       "      <th>3</th>\n",
       "      <td>23</td>\n",
       "      <td>79753</td>\n",
       "      <td>0</td>\n",
       "      <td>35000</td>\n",
       "      <td>MEDICAL</td>\n",
       "      <td>15.23</td>\n",
       "      <td>0.44</td>\n",
       "      <td>2</td>\n",
       "      <td>675</td>\n",
       "      <td>1</td>\n",
       "      <td>False</td>\n",
       "      <td>True</td>\n",
       "      <td>False</td>\n",
       "      <td>False</td>\n",
       "      <td>False</td>\n",
       "      <td>False</td>\n",
       "      <td>False</td>\n",
       "      <td>True</td>\n",
       "      <td>False</td>\n",
       "    </tr>\n",
       "    <tr>\n",
       "      <th>4</th>\n",
       "      <td>24</td>\n",
       "      <td>66135</td>\n",
       "      <td>1</td>\n",
       "      <td>35000</td>\n",
       "      <td>MEDICAL</td>\n",
       "      <td>14.27</td>\n",
       "      <td>0.53</td>\n",
       "      <td>4</td>\n",
       "      <td>586</td>\n",
       "      <td>1</td>\n",
       "      <td>True</td>\n",
       "      <td>False</td>\n",
       "      <td>False</td>\n",
       "      <td>False</td>\n",
       "      <td>True</td>\n",
       "      <td>False</td>\n",
       "      <td>False</td>\n",
       "      <td>True</td>\n",
       "      <td>False</td>\n",
       "    </tr>\n",
       "    <tr>\n",
       "      <th>...</th>\n",
       "      <td>...</td>\n",
       "      <td>...</td>\n",
       "      <td>...</td>\n",
       "      <td>...</td>\n",
       "      <td>...</td>\n",
       "      <td>...</td>\n",
       "      <td>...</td>\n",
       "      <td>...</td>\n",
       "      <td>...</td>\n",
       "      <td>...</td>\n",
       "      <td>...</td>\n",
       "      <td>...</td>\n",
       "      <td>...</td>\n",
       "      <td>...</td>\n",
       "      <td>...</td>\n",
       "      <td>...</td>\n",
       "      <td>...</td>\n",
       "      <td>...</td>\n",
       "      <td>...</td>\n",
       "    </tr>\n",
       "    <tr>\n",
       "      <th>44995</th>\n",
       "      <td>27</td>\n",
       "      <td>47971</td>\n",
       "      <td>6</td>\n",
       "      <td>15000</td>\n",
       "      <td>MEDICAL</td>\n",
       "      <td>15.66</td>\n",
       "      <td>0.31</td>\n",
       "      <td>3</td>\n",
       "      <td>645</td>\n",
       "      <td>1</td>\n",
       "      <td>True</td>\n",
       "      <td>False</td>\n",
       "      <td>False</td>\n",
       "      <td>False</td>\n",
       "      <td>False</td>\n",
       "      <td>False</td>\n",
       "      <td>False</td>\n",
       "      <td>True</td>\n",
       "      <td>False</td>\n",
       "    </tr>\n",
       "    <tr>\n",
       "      <th>44996</th>\n",
       "      <td>37</td>\n",
       "      <td>65800</td>\n",
       "      <td>17</td>\n",
       "      <td>9000</td>\n",
       "      <td>HOMEIMPROVEMENT</td>\n",
       "      <td>14.07</td>\n",
       "      <td>0.14</td>\n",
       "      <td>11</td>\n",
       "      <td>621</td>\n",
       "      <td>1</td>\n",
       "      <td>False</td>\n",
       "      <td>False</td>\n",
       "      <td>False</td>\n",
       "      <td>False</td>\n",
       "      <td>False</td>\n",
       "      <td>False</td>\n",
       "      <td>False</td>\n",
       "      <td>True</td>\n",
       "      <td>False</td>\n",
       "    </tr>\n",
       "    <tr>\n",
       "      <th>44997</th>\n",
       "      <td>33</td>\n",
       "      <td>56942</td>\n",
       "      <td>7</td>\n",
       "      <td>2771</td>\n",
       "      <td>DEBTCONSOLIDATION</td>\n",
       "      <td>10.02</td>\n",
       "      <td>0.05</td>\n",
       "      <td>10</td>\n",
       "      <td>668</td>\n",
       "      <td>1</td>\n",
       "      <td>True</td>\n",
       "      <td>False</td>\n",
       "      <td>False</td>\n",
       "      <td>False</td>\n",
       "      <td>False</td>\n",
       "      <td>False</td>\n",
       "      <td>False</td>\n",
       "      <td>True</td>\n",
       "      <td>False</td>\n",
       "    </tr>\n",
       "    <tr>\n",
       "      <th>44998</th>\n",
       "      <td>29</td>\n",
       "      <td>33164</td>\n",
       "      <td>4</td>\n",
       "      <td>12000</td>\n",
       "      <td>EDUCATION</td>\n",
       "      <td>13.23</td>\n",
       "      <td>0.36</td>\n",
       "      <td>6</td>\n",
       "      <td>604</td>\n",
       "      <td>1</td>\n",
       "      <td>True</td>\n",
       "      <td>True</td>\n",
       "      <td>False</td>\n",
       "      <td>False</td>\n",
       "      <td>False</td>\n",
       "      <td>False</td>\n",
       "      <td>False</td>\n",
       "      <td>True</td>\n",
       "      <td>False</td>\n",
       "    </tr>\n",
       "    <tr>\n",
       "      <th>44999</th>\n",
       "      <td>24</td>\n",
       "      <td>51609</td>\n",
       "      <td>1</td>\n",
       "      <td>6665</td>\n",
       "      <td>DEBTCONSOLIDATION</td>\n",
       "      <td>17.05</td>\n",
       "      <td>0.13</td>\n",
       "      <td>3</td>\n",
       "      <td>628</td>\n",
       "      <td>1</td>\n",
       "      <td>True</td>\n",
       "      <td>False</td>\n",
       "      <td>False</td>\n",
       "      <td>True</td>\n",
       "      <td>False</td>\n",
       "      <td>False</td>\n",
       "      <td>False</td>\n",
       "      <td>True</td>\n",
       "      <td>False</td>\n",
       "    </tr>\n",
       "  </tbody>\n",
       "</table>\n",
       "<p>44993 rows × 19 columns</p>\n",
       "</div>"
      ],
      "text/plain": [
       "       person_age  person_income  person_emp_exp  loan_amnt  \\\n",
       "0              22          71948               0      35000   \n",
       "1              21          12282               0       1000   \n",
       "2              25          12438               3       5500   \n",
       "3              23          79753               0      35000   \n",
       "4              24          66135               1      35000   \n",
       "...           ...            ...             ...        ...   \n",
       "44995          27          47971               6      15000   \n",
       "44996          37          65800              17       9000   \n",
       "44997          33          56942               7       2771   \n",
       "44998          29          33164               4      12000   \n",
       "44999          24          51609               1       6665   \n",
       "\n",
       "             loan_intent  loan_int_rate  loan_percent_income  \\\n",
       "0               PERSONAL          16.02                 0.49   \n",
       "1              EDUCATION          11.14                 0.08   \n",
       "2                MEDICAL          12.87                 0.44   \n",
       "3                MEDICAL          15.23                 0.44   \n",
       "4                MEDICAL          14.27                 0.53   \n",
       "...                  ...            ...                  ...   \n",
       "44995            MEDICAL          15.66                 0.31   \n",
       "44996    HOMEIMPROVEMENT          14.07                 0.14   \n",
       "44997  DEBTCONSOLIDATION          10.02                 0.05   \n",
       "44998          EDUCATION          13.23                 0.36   \n",
       "44999  DEBTCONSOLIDATION          17.05                 0.13   \n",
       "\n",
       "       cb_person_cred_hist_length  credit_score  loan_status  \\\n",
       "0                               3           561            1   \n",
       "1                               2           504            0   \n",
       "2                               3           635            1   \n",
       "3                               2           675            1   \n",
       "4                               4           586            1   \n",
       "...                           ...           ...          ...   \n",
       "44995                           3           645            1   \n",
       "44996                          11           621            1   \n",
       "44997                          10           668            1   \n",
       "44998                           6           604            1   \n",
       "44999                           3           628            1   \n",
       "\n",
       "       person_gender_male  person_education_Bachelor  \\\n",
       "0                   False                      False   \n",
       "1                   False                      False   \n",
       "2                   False                      False   \n",
       "3                   False                       True   \n",
       "4                    True                      False   \n",
       "...                   ...                        ...   \n",
       "44995                True                      False   \n",
       "44996               False                      False   \n",
       "44997                True                      False   \n",
       "44998                True                       True   \n",
       "44999                True                      False   \n",
       "\n",
       "       person_education_Doctorate  person_education_High School  \\\n",
       "0                           False                         False   \n",
       "1                           False                          True   \n",
       "2                           False                          True   \n",
       "3                           False                         False   \n",
       "4                           False                         False   \n",
       "...                           ...                           ...   \n",
       "44995                       False                         False   \n",
       "44996                       False                         False   \n",
       "44997                       False                         False   \n",
       "44998                       False                         False   \n",
       "44999                       False                          True   \n",
       "\n",
       "       person_education_Master  person_home_ownership_OTHER  \\\n",
       "0                         True                        False   \n",
       "1                        False                        False   \n",
       "2                        False                        False   \n",
       "3                        False                        False   \n",
       "4                         True                        False   \n",
       "...                        ...                          ...   \n",
       "44995                    False                        False   \n",
       "44996                    False                        False   \n",
       "44997                    False                        False   \n",
       "44998                    False                        False   \n",
       "44999                    False                        False   \n",
       "\n",
       "       person_home_ownership_OWN  person_home_ownership_RENT  \\\n",
       "0                          False                        True   \n",
       "1                           True                       False   \n",
       "2                          False                       False   \n",
       "3                          False                        True   \n",
       "4                          False                        True   \n",
       "...                          ...                         ...   \n",
       "44995                      False                        True   \n",
       "44996                      False                        True   \n",
       "44997                      False                        True   \n",
       "44998                      False                        True   \n",
       "44999                      False                        True   \n",
       "\n",
       "       previous_loan_defaults_on_file_Yes  \n",
       "0                                   False  \n",
       "1                                    True  \n",
       "2                                   False  \n",
       "3                                   False  \n",
       "4                                   False  \n",
       "...                                   ...  \n",
       "44995                               False  \n",
       "44996                               False  \n",
       "44997                               False  \n",
       "44998                               False  \n",
       "44999                               False  \n",
       "\n",
       "[44993 rows x 19 columns]"
      ]
     },
     "execution_count": 234,
     "metadata": {},
     "output_type": "execute_result"
    }
   ],
   "source": [
    "LoanDf_encoded"
   ]
  },
  {
   "cell_type": "code",
   "execution_count": 235,
   "id": "35cafc6c-db30-4bda-852b-fc989fda36cf",
   "metadata": {},
   "outputs": [],
   "source": [
    "from sklearn.model_selection import train_test_split"
   ]
  },
  {
   "cell_type": "code",
   "execution_count": 236,
   "id": "2fb365ef-f703-48b0-8a06-fb54ce00198a",
   "metadata": {},
   "outputs": [],
   "source": [
    "def loanapprovalBinaryCalssifiactionTransformer(dataForTransfer=None):\n",
    "    if isinstance(dataForTransfer, pd.DataFrame):\n",
    "        df = dataForTransfer.copy()\n",
    "    else:\n",
    "        df = pd.DataFrame(dataForTransfer)\n",
    "\n",
    "    # Ensure required columns exist and are numeric\n",
    "    features = [\"person_income\", \"loan_amnt\", \"credit_score\"]\n",
    "    for col in features:\n",
    "        if col not in df.columns:\n",
    "            raise ValueError(f\"Missing required column: {col}\")\n",
    "        df[col] = pd.to_numeric(df[col], errors='coerce')\n",
    "\n",
    "    # Drop rows with NaNs in features (optional, or handle differently)\n",
    "    df = df.dropna(subset=features)\n",
    "\n",
    "    dfTransformer = sm.add_constant(df[[\"person_income\", \"loan_amnt\", \"credit_score\"]], has_constant='add')\n",
    "    return dfTransformer"
   ]
  },
  {
   "cell_type": "code",
   "execution_count": 237,
   "id": "cde27d5f-de8b-4105-a16b-95cfbbc755a5",
   "metadata": {},
   "outputs": [],
   "source": [
    "loanapprovalBinaryClassificationSampleData = LoanDf_encoded[[\"person_income\", \"loan_amnt\", \"credit_score\"]].sample(n=5000, random_state=42)"
   ]
  },
  {
   "cell_type": "code",
   "execution_count": 238,
   "id": "aedd959f-90f3-4045-80ce-0d1bfb30b097",
   "metadata": {},
   "outputs": [
    {
     "data": {
      "text/plain": [
       "((31495, 19), (13498, 19))"
      ]
     },
     "execution_count": 238,
     "metadata": {},
     "output_type": "execute_result"
    }
   ],
   "source": [
    "# Split the dataset into training and testing sets\n",
    "trainSet, testSet = train_test_split(\n",
    "  LoanDf_encoded,\n",
    "  test_size=0.3,\n",
    "  random_state=1,\n",
    "  stratify=LoanDf['loan_status']\n",
    ")\n",
    "trainSet.shape, testSet.shape"
   ]
  },
  {
   "cell_type": "code",
   "execution_count": 239,
   "id": "5234585a-6b77-45de-ad8f-4aac2c216e09",
   "metadata": {},
   "outputs": [],
   "source": [
    "# Fit the logistic regression model\n",
    "features = [\"person_income\", \"loan_amnt\", \"credit_score\"]\n",
    "xTrain = trainSet[features]\n",
    "yTrain = trainSet['loan_status'].astype(int)\n",
    "yTest = testSet['loan_status'].astype(int)"
   ]
  },
  {
   "cell_type": "code",
   "execution_count": 248,
   "id": "a6686a7c-30fc-4eeb-bcfe-e3f33bf6ae41",
   "metadata": {},
   "outputs": [
    {
     "name": "stdout",
     "output_type": "stream",
     "text": [
      "Optimization terminated successfully.\n",
      "         Current function value: 0.468544\n",
      "         Iterations 7\n",
      "                           Logit Regression Results                           \n",
      "==============================================================================\n",
      "Dep. Variable:            loan_status   No. Observations:                31495\n",
      "Model:                          Logit   Df Residuals:                    31491\n",
      "Method:                           MLE   Df Model:                            3\n",
      "Date:                Thu, 26 Jun 2025   Pseudo R-squ.:                  0.1155\n",
      "Time:                        21:54:41   Log-Likelihood:                -14757.\n",
      "converged:                       True   LL-Null:                       -16684.\n",
      "Covariance Type:            nonrobust   LLR p-value:                     0.000\n",
      "=================================================================================\n",
      "                    coef    std err          z      P>|z|      [0.025      0.975]\n",
      "---------------------------------------------------------------------------------\n",
      "const            -0.3414      0.183     -1.868      0.062      -0.700       0.017\n",
      "person_income  -2.88e-05   6.04e-07    -47.705      0.000      -3e-05   -2.76e-05\n",
      "loan_amnt         0.0001   2.69e-06     43.063      0.000       0.000       0.000\n",
      "credit_score     -0.0001      0.000     -0.495      0.621      -0.001       0.000\n",
      "=================================================================================\n"
     ]
    }
   ],
   "source": [
    "model1 = sm.Logit(\n",
    "  yTrain,\n",
    "  loanapprovalBinaryCalssifiactionTransformer(xTrain)\n",
    ")\n",
    "model1Fit = model1.fit()\n",
    "print(model1Fit.summary())"
   ]
  },
  {
   "cell_type": "code",
   "execution_count": 242,
   "id": "c1ec399c-8a0c-4490-825d-870b96c61ada",
   "metadata": {},
   "outputs": [],
   "source": [
    "predict1 = model1Fit.predict(loanapprovalBinaryCalssifiactionTransformer(testSet))\n",
    "testSet['predict1'] = predict1\n",
    "sumTable = pd.DataFrame({'A': testSet['loan_status'], 'Prob': testSet['predict1']})\n",
    "sumTable.to_csv(\"ROC.csv\", index=True)"
   ]
  },
  {
   "cell_type": "code",
   "execution_count": 243,
   "id": "e037d491-5228-4c84-8991-3477516ae914",
   "metadata": {},
   "outputs": [
    {
     "data": {
      "text/plain": [
       "count    1.349800e+04\n",
       "mean     2.213395e-01\n",
       "std      1.414173e-01\n",
       "min      3.247952e-22\n",
       "25%      1.096518e-01\n",
       "50%      2.072974e-01\n",
       "75%      3.124226e-01\n",
       "max      8.255901e-01\n",
       "Name: predict1, dtype: float64"
      ]
     },
     "execution_count": 243,
     "metadata": {},
     "output_type": "execute_result"
    }
   ],
   "source": [
    "testSet['predict1'].describe()"
   ]
  },
  {
   "cell_type": "code",
   "execution_count": 203,
   "id": "c82f26ad-9ca4-4154-995e-3d25c54e5c84",
   "metadata": {},
   "outputs": [
    {
     "data": {
      "text/plain": [
       "3374     0.248559\n",
       "602      0.574103\n",
       "33580    0.344194\n",
       "23082    0.220966\n",
       "31569    0.065592\n",
       "           ...   \n",
       "2779     0.268174\n",
       "31573    0.022218\n",
       "10895    0.101377\n",
       "44176    0.128432\n",
       "26566    0.031404\n",
       "Name: predict1, Length: 13498, dtype: float64"
      ]
     },
     "execution_count": 203,
     "metadata": {},
     "output_type": "execute_result"
    }
   ],
   "source": [
    "testSet['predict1']"
   ]
  },
  {
   "cell_type": "code",
   "execution_count": 244,
   "id": "54cb7d10-20ad-4062-b1d9-d56d70fbe624",
   "metadata": {},
   "outputs": [],
   "source": [
    "sumTable1 = pd.DataFrame({'A': testSet['loan_status'], 'Prob': testSet['predict1']})"
   ]
  },
  {
   "cell_type": "code",
   "execution_count": 245,
   "id": "a0f0eba5-01f8-4361-9285-49ee6d472a81",
   "metadata": {},
   "outputs": [
    {
     "data": {
      "text/html": [
       "<div>\n",
       "<style scoped>\n",
       "    .dataframe tbody tr th:only-of-type {\n",
       "        vertical-align: middle;\n",
       "    }\n",
       "\n",
       "    .dataframe tbody tr th {\n",
       "        vertical-align: top;\n",
       "    }\n",
       "\n",
       "    .dataframe thead th {\n",
       "        text-align: right;\n",
       "    }\n",
       "</style>\n",
       "<table border=\"1\" class=\"dataframe\">\n",
       "  <thead>\n",
       "    <tr style=\"text-align: right;\">\n",
       "      <th></th>\n",
       "      <th>A</th>\n",
       "      <th>Prob</th>\n",
       "      <th>P</th>\n",
       "    </tr>\n",
       "  </thead>\n",
       "  <tbody>\n",
       "    <tr>\n",
       "      <th>3374</th>\n",
       "      <td>0</td>\n",
       "      <td>0.248559</td>\n",
       "      <td>0</td>\n",
       "    </tr>\n",
       "    <tr>\n",
       "      <th>602</th>\n",
       "      <td>1</td>\n",
       "      <td>0.574103</td>\n",
       "      <td>1</td>\n",
       "    </tr>\n",
       "    <tr>\n",
       "      <th>33580</th>\n",
       "      <td>0</td>\n",
       "      <td>0.344194</td>\n",
       "      <td>1</td>\n",
       "    </tr>\n",
       "    <tr>\n",
       "      <th>23082</th>\n",
       "      <td>0</td>\n",
       "      <td>0.220966</td>\n",
       "      <td>0</td>\n",
       "    </tr>\n",
       "    <tr>\n",
       "      <th>31569</th>\n",
       "      <td>0</td>\n",
       "      <td>0.065592</td>\n",
       "      <td>0</td>\n",
       "    </tr>\n",
       "    <tr>\n",
       "      <th>...</th>\n",
       "      <td>...</td>\n",
       "      <td>...</td>\n",
       "      <td>...</td>\n",
       "    </tr>\n",
       "    <tr>\n",
       "      <th>2779</th>\n",
       "      <td>0</td>\n",
       "      <td>0.268174</td>\n",
       "      <td>1</td>\n",
       "    </tr>\n",
       "    <tr>\n",
       "      <th>31573</th>\n",
       "      <td>0</td>\n",
       "      <td>0.022218</td>\n",
       "      <td>0</td>\n",
       "    </tr>\n",
       "    <tr>\n",
       "      <th>10895</th>\n",
       "      <td>0</td>\n",
       "      <td>0.101377</td>\n",
       "      <td>0</td>\n",
       "    </tr>\n",
       "    <tr>\n",
       "      <th>44176</th>\n",
       "      <td>1</td>\n",
       "      <td>0.128432</td>\n",
       "      <td>0</td>\n",
       "    </tr>\n",
       "    <tr>\n",
       "      <th>26566</th>\n",
       "      <td>0</td>\n",
       "      <td>0.031404</td>\n",
       "      <td>0</td>\n",
       "    </tr>\n",
       "  </tbody>\n",
       "</table>\n",
       "<p>13498 rows × 3 columns</p>\n",
       "</div>"
      ],
      "text/plain": [
       "       A      Prob  P\n",
       "3374   0  0.248559  0\n",
       "602    1  0.574103  1\n",
       "33580  0  0.344194  1\n",
       "23082  0  0.220966  0\n",
       "31569  0  0.065592  0\n",
       "...   ..       ... ..\n",
       "2779   0  0.268174  1\n",
       "31573  0  0.022218  0\n",
       "10895  0  0.101377  0\n",
       "44176  1  0.128432  0\n",
       "26566  0  0.031404  0\n",
       "\n",
       "[13498 rows x 3 columns]"
      ]
     },
     "execution_count": 245,
     "metadata": {},
     "output_type": "execute_result"
    }
   ],
   "source": [
    "# Make predictions based on probability threshold of 0.5\n",
    "testSet['predictions'] = (testSet['predict1'] > 0.25).astype(int)\n",
    "sumTable1['P'] = testSet['predictions']\n",
    "sumTable1"
   ]
  },
  {
   "cell_type": "code",
   "execution_count": 206,
   "id": "fce91668-acab-43a9-ae4d-892bcd01e174",
   "metadata": {},
   "outputs": [],
   "source": [
    "from sklearn.metrics import accuracy_score, recall_score, precision_score"
   ]
  },
  {
   "cell_type": "code",
   "execution_count": 246,
   "id": "40574e62-da7a-43b6-aeb6-80a7ffc79496",
   "metadata": {},
   "outputs": [
    {
     "name": "stdout",
     "output_type": "stream",
     "text": [
      "Accuracy: 0.6906208327159579\n"
     ]
    }
   ],
   "source": [
    "# Calculate accuracy\n",
    "accuracy = accuracy_score(sumTable1['A'], sumTable1['P'])\n",
    "print(f'Accuracy: {accuracy}')"
   ]
  },
  {
   "cell_type": "code",
   "execution_count": 208,
   "id": "ae3bcce3-c906-4fa0-9573-dc5f1fe68818",
   "metadata": {},
   "outputs": [
    {
     "name": "stdout",
     "output_type": "stream",
     "text": [
      "Recall: 0.682\n"
     ]
    }
   ],
   "source": [
    "# Calculate recall\n",
    "recall = recall_score(sumTable1['A'], sumTable1['P'])\n",
    "print(f'Recall: {recall}')"
   ]
  },
  {
   "cell_type": "code",
   "execution_count": 209,
   "id": "9c655a79-41fc-4fbf-aa29-21a5d470081f",
   "metadata": {},
   "outputs": [
    {
     "name": "stdout",
     "output_type": "stream",
     "text": [
      "Precision: 0.38838268792710706\n"
     ]
    }
   ],
   "source": [
    "# Calculate precision\n",
    "precision = precision_score(sumTable1['A'], sumTable1['P'])\n",
    "print(f'Precision: {precision}')"
   ]
  },
  {
   "cell_type": "code",
   "execution_count": 210,
   "id": "71a3cb22-8fa2-4678-9c0e-803a8f265752",
   "metadata": {},
   "outputs": [
    {
     "name": "stdout",
     "output_type": "stream",
     "text": [
      "Sensitivity: 0.682\n",
      "Specificity: 0.6930843970280053\n"
     ]
    }
   ],
   "source": [
    "# Sensitivity and Specificity (Sensitivity is same as recall)\n",
    "sensitivity = recall\n",
    "specificity = sum((sumTable1['A'] == 0) & (sumTable1['P'] == 0)) / sum(sumTable1['A'] == 0)\n",
    "print(f'Sensitivity: {sensitivity}')\n",
    "print(f'Specificity: {specificity}')"
   ]
  },
  {
   "cell_type": "code",
   "execution_count": 211,
   "id": "f8e6e450-69c1-4755-953e-b8ca60a91072",
   "metadata": {},
   "outputs": [
    {
     "name": "stdout",
     "output_type": "stream",
     "text": [
      "F1 Score: 0.49492017416545714\n"
     ]
    }
   ],
   "source": [
    "# Calculate F1 Score\n",
    "f1Score = 2 * (precision * recall) / (precision + recall)\n",
    "print(f'F1 Score: {f1Score}')"
   ]
  },
  {
   "cell_type": "code",
   "execution_count": 251,
   "id": "669cdac9-dc4c-4453-b82e-3b975ba03f74",
   "metadata": {},
   "outputs": [
    {
     "name": "stdout",
     "output_type": "stream",
     "text": [
      "✅ Uploaded encrypted ZIP to s3://273-g3/group3_loan_approval_BinaryClassificationModel1__1.0.2.pkl.zip\n"
     ]
    },
    {
     "data": {
      "text/plain": [
       "{'_id': '685dfa2f3b813e62d9fd3375',\n",
       " 'modelName': 'group3_loan_approval_BinaryClassificationModel1',\n",
       " 'version': '1.0.2',\n",
       " 'params': {'const': -0.3414195312661968,\n",
       "  'person_income': -2.880135363361832e-05,\n",
       "  'loan_amnt': 0.00011563830914966906,\n",
       "  'credit_score': -0.00014087540105437213},\n",
       " 'score': 0.11553809164691042,\n",
       " 'otherEvaluationMetrics': {'accuracy': 0.6906208327159579,\n",
       "  'recall': 0.682,\n",
       "  'precision': 0.38838268792710706,\n",
       "  'sensitivity': 0.682,\n",
       "  'specificity': 0.6930843970280053,\n",
       "  'f1Score': 0.49492017416545714},\n",
       " 'modelLibrary': 'statsmodels.api.Logit',\n",
       " 'libraryMetadata': {'pvalues': {'const': 0.06169985823546658,\n",
       "   'person_income': 0.0,\n",
       "   'loan_amnt': 0.0,\n",
       "   'credit_score': 0.6206994981211525},\n",
       "  'pseudo_r_squared': 0.11553809164691042,\n",
       "  'llf': -14756.794613623693,\n",
       "  'aic': 29521.589227247387,\n",
       "  'bic': 29555.01956357561},\n",
       " 'sampleData': {'dataForTransfer': [{'person_income': 68127,\n",
       "    'loan_amnt': 10000,\n",
       "    'credit_score': 690},\n",
       "   {'person_income': 99919, 'loan_amnt': 5000, 'credit_score': 676},\n",
       "   {'person_income': 34728, 'loan_amnt': 8400, 'credit_score': 661},\n",
       "   {'person_income': 141611, 'loan_amnt': 12000, 'credit_score': 612},\n",
       "   {'person_income': 90234, 'loan_amnt': 25000, 'credit_score': 499}]},\n",
       " 'modelType': 'model',\n",
       " 'keepLastOnly': False,\n",
       " 'modelSizeBytes': 3281277,\n",
       " 'zippedModelSizeBytes': 605044,\n",
       " 's3Url': '273-g3/group3_loan_approval_BinaryClassificationModel1__1.0.2.pkl.zip',\n",
       " 'createdAt': '2025-06-27T01:55:59.952Z',\n",
       " 'updatedAt': '2025-06-27T01:55:59.952Z'}"
      ]
     },
     "execution_count": 251,
     "metadata": {},
     "output_type": "execute_result"
    }
   ],
   "source": [
    "def to_float_dict(d):\n",
    "    return {k: float(v) for k, v in d.items()}\n",
    "\n",
    "def postprocessor(preds, original_input=None):\n",
    "    predicted_classes = (preds > 0.5).astype(int)\n",
    "    return {\"predictions\": predicted_classes.tolist()}\n",
    "\n",
    "model1Fit.transformer = loanapprovalBinaryCalssifiactionTransformer\n",
    "model1Fit.mainPredictor = partial(generalRegressionPredictor, model1Fit)\n",
    "model1Fit.postprocessor = postprocessor \n",
    "\n",
    "registerAJrjModel(\n",
    "    model1Fit,\n",
    "    {\n",
    "        \"modelName\": \"group3_loan_approval_BinaryClassificationModel1\",\n",
    "        \"version\": \"1.0.2\",\n",
    "        \"params\": to_float_dict(model1Fit.params.to_dict()),\n",
    "        \"score\": float(model1Fit.prsquared),\n",
    "        \"otherEvaluationMetrics\": {\n",
    "            \"accuracy\": float(accuracy),\n",
    "            \"recall\": float(recall),\n",
    "            \"precision\": float(precision),\n",
    "            \"sensitivity\": float(sensitivity),\n",
    "            \"specificity\": float(specificity),\n",
    "            \"f1Score\": float(f1Score),\n",
    "        },\n",
    "        \"modelLibrary\": \"statsmodels.api.Logit\",\n",
    "        \"libraryMetadata\": {\n",
    "            \"pvalues\": to_float_dict(model1Fit.pvalues.to_dict()),\n",
    "            \"pseudo_r_squared\": float(model1Fit.prsquared),\n",
    "            \"llf\": float(model1Fit.llf),\n",
    "            \"aic\": float(model1Fit.aic),\n",
    "            \"bic\": float(model1Fit.bic)\n",
    "        },\n",
    "        \"sampleData\": {\n",
    "    \"dataForTransfer\": loanapprovalBinaryClassificationSampleData[[\"person_income\", \"loan_amnt\", \"credit_score\"]]\n",
    "                           .head(5)\n",
    "                           .to_dict(orient=\"records\")\n",
    "\n",
    "        }\n",
    "    }\n",
    "\n",
    ")"
   ]
  },
  {
   "cell_type": "markdown",
   "id": "6a28b512-5167-45bb-ad4f-c64095dde278",
   "metadata": {},
   "source": [
    "### MODEL 2: Logistic Regression with one numerical feature"
   ]
  },
  {
   "cell_type": "code",
   "execution_count": 147,
   "id": "62b4ba8c-c330-47f2-817f-d45262dfacf1",
   "metadata": {},
   "outputs": [],
   "source": [
    "def loanapprovalBinaryCalssifiactionTransformer2(dataForTransfer=None):\n",
    "    if isinstance(dataForTransfer, pd.DataFrame):\n",
    "        df = dataForTransfer.copy()\n",
    "    else:\n",
    "        df = pd.DataFrame(dataForTransfer)\n",
    "\n",
    "    # Ensure required columns exist and are numeric\n",
    "    features2 = [\"loan_amnt\"]\n",
    "    for col in features2:\n",
    "        if col not in df.columns:\n",
    "            raise ValueError(f\"Missing required column: {col}\")\n",
    "        df[col] = pd.to_numeric(df[col], errors='coerce')\n",
    "\n",
    "    # Drop rows with NaNs in features (optional, or handle differently)\n",
    "    df = df.dropna(subset=features)\n",
    "\n",
    "    dfTransformer = sm.add_constant(df[features2], has_constant='add')\n",
    "    return dfTransformer"
   ]
  },
  {
   "cell_type": "code",
   "execution_count": 148,
   "id": "46ddcb05-d403-436d-a764-6201dacd8e6e",
   "metadata": {},
   "outputs": [],
   "source": [
    "loanapprovalBinaryClassificationSampleData = LoanDf_encoded[[\"loan_amnt\"]].sample(n=5000, random_state=42)"
   ]
  },
  {
   "cell_type": "code",
   "execution_count": 149,
   "id": "58a50ba0-9c33-496b-9b62-140500bb2bbb",
   "metadata": {},
   "outputs": [],
   "source": [
    "# Fit the logistic regression model\n",
    "features2 = [\"loan_amnt\"]\n",
    "xTrain = trainSet[features2]\n",
    "yTrain = trainSet['loan_status'].astype(int)\n",
    "yTest = testSet['loan_status'].astype(int)"
   ]
  },
  {
   "cell_type": "code",
   "execution_count": 150,
   "id": "bcf8fc32-b236-46ff-84eb-82933c96c1c0",
   "metadata": {},
   "outputs": [
    {
     "name": "stdout",
     "output_type": "stream",
     "text": [
      "Optimization terminated successfully.\n",
      "         Current function value: 0.524130\n",
      "         Iterations 5\n",
      "                           Logit Regression Results                           \n",
      "==============================================================================\n",
      "Dep. Variable:            loan_status   No. Observations:                31495\n",
      "Model:                          Logit   Df Residuals:                    31493\n",
      "Method:                           MLE   Df Model:                            1\n",
      "Date:                Thu, 26 Jun 2025   Pseudo R-squ.:                 0.01061\n",
      "Time:                        21:22:40   Log-Likelihood:                -16507.\n",
      "converged:                       True   LL-Null:                       -16684.\n",
      "Covariance Type:            nonrobust   LLR p-value:                 5.537e-79\n",
      "==============================================================================\n",
      "                 coef    std err          z      P>|z|      [0.025      0.975]\n",
      "------------------------------------------------------------------------------\n",
      "const         -1.6407      0.025    -65.125      0.000      -1.690      -1.591\n",
      "loan_amnt   3.874e-05   2.03e-06     19.055      0.000    3.48e-05    4.27e-05\n",
      "==============================================================================\n"
     ]
    }
   ],
   "source": [
    "model2 = sm.Logit(\n",
    "  yTrain,\n",
    "  loanapprovalBinaryCalssifiactionTransformer2(xTrain)\n",
    ")\n",
    "model2Fit = model2.fit()\n",
    "print(model2Fit.summary())"
   ]
  },
  {
   "cell_type": "code",
   "execution_count": 151,
   "id": "3be1971c-eaff-4cf0-baa3-08da5983acb6",
   "metadata": {},
   "outputs": [
    {
     "data": {
      "text/plain": [
       "((31495, 19), (13498, 19))"
      ]
     },
     "execution_count": 151,
     "metadata": {},
     "output_type": "execute_result"
    }
   ],
   "source": [
    "# Split the dataset into training and testing sets\n",
    "trainSet, testSet = train_test_split(\n",
    "  LoanDf_encoded,\n",
    "  test_size=0.3,\n",
    "  random_state=1,\n",
    "  stratify=LoanDf['loan_status']\n",
    ")\n",
    "trainSet.shape, testSet.shape"
   ]
  },
  {
   "cell_type": "code",
   "execution_count": 176,
   "id": "70c075b3-b41e-4dd1-9e77-e0ebf7c83359",
   "metadata": {},
   "outputs": [
    {
     "data": {
      "text/html": [
       "<div>\n",
       "<style scoped>\n",
       "    .dataframe tbody tr th:only-of-type {\n",
       "        vertical-align: middle;\n",
       "    }\n",
       "\n",
       "    .dataframe tbody tr th {\n",
       "        vertical-align: top;\n",
       "    }\n",
       "\n",
       "    .dataframe thead th {\n",
       "        text-align: right;\n",
       "    }\n",
       "</style>\n",
       "<table border=\"1\" class=\"dataframe\">\n",
       "  <thead>\n",
       "    <tr style=\"text-align: right;\">\n",
       "      <th></th>\n",
       "      <th>A</th>\n",
       "      <th>Prob</th>\n",
       "      <th>P</th>\n",
       "    </tr>\n",
       "  </thead>\n",
       "  <tbody>\n",
       "    <tr>\n",
       "      <th>3374</th>\n",
       "      <td>0</td>\n",
       "      <td>0.190465</td>\n",
       "      <td>0</td>\n",
       "    </tr>\n",
       "    <tr>\n",
       "      <th>602</th>\n",
       "      <td>1</td>\n",
       "      <td>0.296121</td>\n",
       "      <td>1</td>\n",
       "    </tr>\n",
       "    <tr>\n",
       "      <th>33580</th>\n",
       "      <td>0</td>\n",
       "      <td>0.250059</td>\n",
       "      <td>1</td>\n",
       "    </tr>\n",
       "    <tr>\n",
       "      <th>23082</th>\n",
       "      <td>0</td>\n",
       "      <td>0.209034</td>\n",
       "      <td>1</td>\n",
       "    </tr>\n",
       "    <tr>\n",
       "      <th>31569</th>\n",
       "      <td>0</td>\n",
       "      <td>0.242864</td>\n",
       "      <td>1</td>\n",
       "    </tr>\n",
       "    <tr>\n",
       "      <th>...</th>\n",
       "      <td>...</td>\n",
       "      <td>...</td>\n",
       "      <td>...</td>\n",
       "    </tr>\n",
       "    <tr>\n",
       "      <th>2779</th>\n",
       "      <td>0</td>\n",
       "      <td>0.235811</td>\n",
       "      <td>1</td>\n",
       "    </tr>\n",
       "    <tr>\n",
       "      <th>31573</th>\n",
       "      <td>0</td>\n",
       "      <td>0.181666</td>\n",
       "      <td>0</td>\n",
       "    </tr>\n",
       "    <tr>\n",
       "      <th>10895</th>\n",
       "      <td>0</td>\n",
       "      <td>0.196511</td>\n",
       "      <td>0</td>\n",
       "    </tr>\n",
       "    <tr>\n",
       "      <th>44176</th>\n",
       "      <td>1</td>\n",
       "      <td>0.182242</td>\n",
       "      <td>0</td>\n",
       "    </tr>\n",
       "    <tr>\n",
       "      <th>26566</th>\n",
       "      <td>0</td>\n",
       "      <td>0.196511</td>\n",
       "      <td>0</td>\n",
       "    </tr>\n",
       "  </tbody>\n",
       "</table>\n",
       "<p>13498 rows × 3 columns</p>\n",
       "</div>"
      ],
      "text/plain": [
       "       A      Prob  P\n",
       "3374   0  0.190465  0\n",
       "602    1  0.296121  1\n",
       "33580  0  0.250059  1\n",
       "23082  0  0.209034  1\n",
       "31569  0  0.242864  1\n",
       "...   ..       ... ..\n",
       "2779   0  0.235811  1\n",
       "31573  0  0.181666  0\n",
       "10895  0  0.196511  0\n",
       "44176  1  0.182242  0\n",
       "26566  0  0.196511  0\n",
       "\n",
       "[13498 rows x 3 columns]"
      ]
     },
     "execution_count": 176,
     "metadata": {},
     "output_type": "execute_result"
    }
   ],
   "source": [
    "predict2 = model2Fit.predict(loanapprovalBinaryCalssifiactionTransformer2(testSet))\n",
    "testSet['predict2'] = predict2\n",
    "sumTable2 = pd.DataFrame({'A': testSet['loan_status'], 'Prob': testSet['predict2']})\n",
    "testSet['predictions'] = (testSet['predict2'] > 0.2).astype(int)\n",
    "sumTable2['P'] = testSet['predictions']\n",
    "sumTable2.to_csv(\"ROC.csv\", index=True)\n",
    "sumTable2"
   ]
  },
  {
   "cell_type": "code",
   "execution_count": 177,
   "id": "ef5010b3-a49e-4f96-a8cd-925f7ee07ae7",
   "metadata": {},
   "outputs": [],
   "source": [
    "from sklearn.metrics import accuracy_score, recall_score, precision_score"
   ]
  },
  {
   "cell_type": "code",
   "execution_count": 178,
   "id": "55d4019f-fdb2-402d-9a0d-b89453ac5c14",
   "metadata": {},
   "outputs": [
    {
     "name": "stdout",
     "output_type": "stream",
     "text": [
      "Accuracy: 0.464661431323159\n"
     ]
    }
   ],
   "source": [
    "# Calculate accuracy\n",
    "accuracy2 = accuracy_score(sumTable2['A'], sumTable2['P'])\n",
    "print(f'Accuracy: {accuracy2}')"
   ]
  },
  {
   "cell_type": "code",
   "execution_count": 179,
   "id": "be085256-fc20-49db-9096-b6ea0100b7b6",
   "metadata": {},
   "outputs": [
    {
     "name": "stdout",
     "output_type": "stream",
     "text": [
      "Recall: 0.6426666666666667\n"
     ]
    }
   ],
   "source": [
    "# Calculate recall\n",
    "recall2 = recall_score(sumTable2['A'], sumTable2['P'])\n",
    "print(f'Recall: {recall2}')"
   ]
  },
  {
   "cell_type": "code",
   "execution_count": 180,
   "id": "1cc8a918-31b1-410d-a552-370a5fec0370",
   "metadata": {},
   "outputs": [
    {
     "name": "stdout",
     "output_type": "stream",
     "text": [
      "count    13498.000000\n",
      "mean         0.221889\n",
      "std          0.045055\n",
      "min          0.165021\n",
      "25%          0.190465\n",
      "50%          0.209034\n",
      "75%          0.235811\n",
      "max          0.429306\n",
      "Name: predict2, dtype: float64\n"
     ]
    }
   ],
   "source": [
    "print(testSet['predict2'].describe())"
   ]
  },
  {
   "cell_type": "code",
   "execution_count": 181,
   "id": "13e5ed10-408e-40df-b278-deda1ac8337c",
   "metadata": {},
   "outputs": [
    {
     "name": "stdout",
     "output_type": "stream",
     "text": [
      "Precision: 0.23855481316505817\n"
     ]
    }
   ],
   "source": [
    "# Calculate precision\n",
    "precision2 = precision_score(sumTable2['A'], sumTable2['P'])\n",
    "print(f'Precision: {precision2}')"
   ]
  },
  {
   "cell_type": "code",
   "execution_count": 182,
   "id": "0d4d1dbd-132e-4766-be43-750d271d0109",
   "metadata": {},
   "outputs": [
    {
     "name": "stdout",
     "output_type": "stream",
     "text": [
      "Sensitivity: 0.6426666666666667\n",
      "Specificity: 0.41379310344827586\n"
     ]
    }
   ],
   "source": [
    "# Sensitivity and Specificity (Sensitivity is same as recall)\n",
    "sensitivity2 = recall2\n",
    "specificity2 = sum((sumTable2['A'] == 0) & (sumTable2['P'] == 0)) / sum(sumTable2['A'] == 0)\n",
    "print(f'Sensitivity: {sensitivity2}')\n",
    "print(f'Specificity: {specificity2}')"
   ]
  },
  {
   "cell_type": "code",
   "execution_count": 183,
   "id": "a9a122ba-e018-4a71-a337-c2c5f6228014",
   "metadata": {},
   "outputs": [
    {
     "name": "stdout",
     "output_type": "stream",
     "text": [
      "F1 Score: 0.34795163327919154\n"
     ]
    }
   ],
   "source": [
    "# Calculate F1 Score\n",
    "f1Score2 = 2 * (precision2 * recall2) / (precision2 + recall2)\n",
    "print(f'F1 Score: {f1Score2}')"
   ]
  },
  {
   "cell_type": "code",
   "execution_count": 253,
   "id": "0507c6eb-52ee-4fb8-ad31-1786b2d521ca",
   "metadata": {},
   "outputs": [
    {
     "name": "stdout",
     "output_type": "stream",
     "text": [
      "✅ Uploaded encrypted ZIP to s3://273-g3/group3_loan_approval_BinaryClassificationModel2__1.0.0.pkl.zip\n"
     ]
    },
    {
     "data": {
      "text/plain": [
       "{'_id': '685dfa8d3b813e62d9fd3376',\n",
       " 'modelName': 'group3_loan_approval_BinaryClassificationModel2',\n",
       " 'version': '1.0.0',\n",
       " 'params': {'const': -1.6407060092891832, 'loan_amnt': 3.874347923157579e-05},\n",
       " 'score': 0.01061041572346022,\n",
       " 'otherEvaluationMetrics': {'accuracy': 0.464661431323159,\n",
       "  'recall': 0.6426666666666667,\n",
       "  'precision': 0.23855481316505817,\n",
       "  'sensitivity': 0.6426666666666667,\n",
       "  'specificity': 0.41379310344827586,\n",
       "  'f1Score': 0.34795163327919154},\n",
       " 'modelLibrary': 'statsmodels.api.Logit',\n",
       " 'libraryMetadata': {'pvalues': {'const': 0.0,\n",
       "   'loan_amnt': 5.935739790811908e-81},\n",
       "  'pseudo_r_squared': 0.01061041572346022,\n",
       "  'llf': -16507.459224800008,\n",
       "  'aic': 33018.918449600016,\n",
       "  'bic': 33035.63361776413},\n",
       " 'sampleData': {'dataForTransfer': [{'loan_amnt': 10000},\n",
       "   {'loan_amnt': 5000},\n",
       "   {'loan_amnt': 8400},\n",
       "   {'loan_amnt': 12000},\n",
       "   {'loan_amnt': 25000}]},\n",
       " 'modelType': 'model',\n",
       " 'keepLastOnly': False,\n",
       " 'modelSizeBytes': 2273073,\n",
       " 'zippedModelSizeBytes': 199259,\n",
       " 's3Url': '273-g3/group3_loan_approval_BinaryClassificationModel2__1.0.0.pkl.zip',\n",
       " 'createdAt': '2025-06-27T01:57:33.471Z',\n",
       " 'updatedAt': '2025-06-27T01:57:33.471Z'}"
      ]
     },
     "execution_count": 253,
     "metadata": {},
     "output_type": "execute_result"
    }
   ],
   "source": [
    "def to_float_dict(d):\n",
    "    return {k: float(v) for k, v in d.items()}\n",
    "\n",
    "def postprocessor(preds, original_input=None):\n",
    "    predicted_classes = (preds > 0.5).astype(int)\n",
    "    return {\"predictions\": predicted_classes.tolist()}\n",
    "\n",
    "model2Fit.transformer = loanapprovalBinaryCalssifiactionTransformer_model2\n",
    "model2Fit.mainPredictor = partial(generalRegressionPredictor, model2Fit)\n",
    "model2Fit.postprocessor = postprocessor \n",
    "\n",
    "registerAJrjModel(\n",
    "    model2Fit,\n",
    "    {\n",
    "        \"modelName\": \"group3_loan_approval_BinaryClassificationModel2\",\n",
    "        \"version\": \"1.0.0\",\n",
    "        \"params\": to_float_dict(model2Fit.params.to_dict()),\n",
    "        \"score\": float(model2Fit.prsquared),\n",
    "        \"otherEvaluationMetrics\": {\n",
    "            \"accuracy\": float(accuracy2),\n",
    "            \"recall\": float(recall2),\n",
    "            \"precision\": float(precision2),\n",
    "            \"sensitivity\": float(sensitivity2),\n",
    "            \"specificity\": float(specificity2),\n",
    "            \"f1Score\": float(f1Score2),\n",
    "        },\n",
    "        \"modelLibrary\": \"statsmodels.api.Logit\",\n",
    "        \"libraryMetadata\": {\n",
    "            \"pvalues\": to_float_dict(model2Fit.pvalues.to_dict()),\n",
    "            \"pseudo_r_squared\": float(model2Fit.prsquared),\n",
    "            \"llf\": float(model2Fit.llf),\n",
    "            \"aic\": float(model2Fit.aic),\n",
    "            \"bic\": float(model2Fit.bic)\n",
    "        },\n",
    "        \"sampleData\": {\n",
    "    \"dataForTransfer\": loanapprovalBinaryClassificationSampleData[[\"loan_amnt\"]]\n",
    "                           .head(5)\n",
    "                           .to_dict(orient=\"records\")\n",
    "\n",
    "        }\n",
    "    }\n",
    "\n",
    ")"
   ]
  },
  {
   "cell_type": "markdown",
   "id": "af58b947-d549-4272-971c-fa2c62470863",
   "metadata": {},
   "source": [
    "## MODEL 3: Logistic Regression with all Numerical Features"
   ]
  },
  {
   "cell_type": "code",
   "execution_count": 298,
   "id": "a09124d2-5d26-4578-b4a0-05db6bfacb8c",
   "metadata": {},
   "outputs": [],
   "source": [
    "def loanapprovalBinaryCalssifiactionTransformer3(dataForTransfer=None):\n",
    "    if isinstance(dataForTransfer, pd.DataFrame):\n",
    "        df = dataForTransfer.copy()\n",
    "    else:\n",
    "        df = pd.DataFrame(dataForTransfer)\n",
    "\n",
    "    # Ensure required columns exist and are numeric\n",
    "    features3 = ['person_age', 'person_income', 'person_emp_exp', 'loan_amnt',\n",
    "    'loan_int_rate', 'loan_percent_income', 'cb_person_cred_hist_length', 'credit_score']\n",
    "    for col in features3:\n",
    "        if col not in df.columns:\n",
    "            raise ValueError(f\"Missing required column: {col}\")\n",
    "        \n",
    "        # Convert bool to int explicitly\n",
    "        if df[col].dtype == 'bool':\n",
    "            df[col] = df[col].astype(int)\n",
    "        else:\n",
    "            df[col] = pd.to_numeric(df[col], errors='coerce')\n",
    "\n",
    "    df = df.dropna(subset=features3)\n",
    "    dfTransformed = sm.add_constant(df[features3], has_constant='add')\n",
    "    return dfTransformed"
   ]
  },
  {
   "cell_type": "code",
   "execution_count": 283,
   "id": "0bab81e2-34f3-4981-9b0c-3352941e1b21",
   "metadata": {},
   "outputs": [],
   "source": [
    "loanapprovalBinaryClassificationSampleData = LoanDf_encoded[['person_age', 'person_income', 'person_emp_exp', 'loan_amnt',\n",
    "    'loan_int_rate', 'loan_percent_income', 'cb_person_cred_hist_length', 'credit_score']].sample(n=5000, random_state=42)"
   ]
  },
  {
   "cell_type": "code",
   "execution_count": 285,
   "id": "bd4f4013-84bc-4d89-bb39-55e555767094",
   "metadata": {},
   "outputs": [],
   "source": [
    "# Fit the logistic regression model\n",
    "features3 = ['person_age', 'person_income', 'person_emp_exp', 'loan_amnt',\n",
    "    'loan_int_rate', 'loan_percent_income', 'cb_person_cred_hist_length', 'credit_score']\n",
    "xTrain = trainSet[features3]\n",
    "yTrain = trainSet['loan_status'].astype(int)\n",
    "yTest = testSet['loan_status'].astype(int)"
   ]
  },
  {
   "cell_type": "code",
   "execution_count": 286,
   "id": "468a33fa-76a3-46be-aac9-99cfe976bcc5",
   "metadata": {},
   "outputs": [
    {
     "name": "stdout",
     "output_type": "stream",
     "text": [
      "Optimization terminated successfully.\n",
      "         Current function value: 0.391219\n",
      "         Iterations 7\n",
      "                           Logit Regression Results                           \n",
      "==============================================================================\n",
      "Dep. Variable:            loan_status   No. Observations:                31495\n",
      "Model:                          Logit   Df Residuals:                    31486\n",
      "Method:                           MLE   Df Model:                            8\n",
      "Date:                Thu, 26 Jun 2025   Pseudo R-squ.:                  0.2615\n",
      "Time:                        22:23:39   Log-Likelihood:                -12321.\n",
      "converged:                       True   LL-Null:                       -16684.\n",
      "Covariance Type:            nonrobust   LLR p-value:                     0.000\n",
      "==============================================================================================\n",
      "                                 coef    std err          z      P>|z|      [0.025      0.975]\n",
      "----------------------------------------------------------------------------------------------\n",
      "const                         -6.8629      0.311    -22.062      0.000      -7.473      -6.253\n",
      "person_age                     0.0221      0.010      2.170      0.030       0.002       0.042\n",
      "person_income                7.35e-07   4.37e-07      1.681      0.093   -1.22e-07    1.59e-06\n",
      "person_emp_exp                -0.0199      0.009     -2.237      0.025      -0.037      -0.002\n",
      "loan_amnt                     -0.0001   4.32e-06    -25.675      0.000      -0.000      -0.000\n",
      "loan_int_rate                  0.3349      0.006     54.707      0.000       0.323       0.347\n",
      "loan_percent_income           15.6056      0.306     50.951      0.000      15.005      16.206\n",
      "cb_person_cred_hist_length    -0.0048      0.009     -0.543      0.587      -0.022       0.012\n",
      "credit_score                  -0.0003      0.000     -0.993      0.320      -0.001       0.000\n",
      "==============================================================================================\n"
     ]
    }
   ],
   "source": [
    "model3 = sm.Logit(\n",
    "  yTrain,\n",
    "  loanapprovalBinaryCalssifiactionTransformer3(xTrain)\n",
    ")\n",
    "model3Fit = model3.fit()\n",
    "print(model3Fit.summary())"
   ]
  },
  {
   "cell_type": "code",
   "execution_count": 288,
   "id": "83558faf-455f-4a1a-b513-26974309a770",
   "metadata": {},
   "outputs": [
    {
     "data": {
      "text/plain": [
       "((31495, 19), (13498, 19))"
      ]
     },
     "execution_count": 288,
     "metadata": {},
     "output_type": "execute_result"
    }
   ],
   "source": [
    "# Split the dataset into training and testing sets\n",
    "trainSet, testSet = train_test_split(\n",
    "  LoanDf_encoded,\n",
    "  test_size=0.3,\n",
    "  random_state=1,\n",
    "  stratify=LoanDf['loan_status']\n",
    ")\n",
    "trainSet.shape, testSet.shape"
   ]
  },
  {
   "cell_type": "code",
   "execution_count": 289,
   "id": "4df21997-c9a9-4c72-a026-45eddfe058d8",
   "metadata": {},
   "outputs": [
    {
     "data": {
      "text/html": [
       "<div>\n",
       "<style scoped>\n",
       "    .dataframe tbody tr th:only-of-type {\n",
       "        vertical-align: middle;\n",
       "    }\n",
       "\n",
       "    .dataframe tbody tr th {\n",
       "        vertical-align: top;\n",
       "    }\n",
       "\n",
       "    .dataframe thead th {\n",
       "        text-align: right;\n",
       "    }\n",
       "</style>\n",
       "<table border=\"1\" class=\"dataframe\">\n",
       "  <thead>\n",
       "    <tr style=\"text-align: right;\">\n",
       "      <th></th>\n",
       "      <th>A</th>\n",
       "      <th>Prob</th>\n",
       "      <th>P</th>\n",
       "    </tr>\n",
       "  </thead>\n",
       "  <tbody>\n",
       "    <tr>\n",
       "      <th>3374</th>\n",
       "      <td>0</td>\n",
       "      <td>0.384466</td>\n",
       "      <td>1</td>\n",
       "    </tr>\n",
       "    <tr>\n",
       "      <th>602</th>\n",
       "      <td>1</td>\n",
       "      <td>0.817822</td>\n",
       "      <td>1</td>\n",
       "    </tr>\n",
       "    <tr>\n",
       "      <th>33580</th>\n",
       "      <td>0</td>\n",
       "      <td>0.276564</td>\n",
       "      <td>1</td>\n",
       "    </tr>\n",
       "    <tr>\n",
       "      <th>23082</th>\n",
       "      <td>0</td>\n",
       "      <td>0.046695</td>\n",
       "      <td>0</td>\n",
       "    </tr>\n",
       "    <tr>\n",
       "      <th>31569</th>\n",
       "      <td>0</td>\n",
       "      <td>0.075174</td>\n",
       "      <td>0</td>\n",
       "    </tr>\n",
       "    <tr>\n",
       "      <th>...</th>\n",
       "      <td>...</td>\n",
       "      <td>...</td>\n",
       "      <td>...</td>\n",
       "    </tr>\n",
       "    <tr>\n",
       "      <th>2779</th>\n",
       "      <td>0</td>\n",
       "      <td>0.422463</td>\n",
       "      <td>1</td>\n",
       "    </tr>\n",
       "    <tr>\n",
       "      <th>31573</th>\n",
       "      <td>0</td>\n",
       "      <td>0.065135</td>\n",
       "      <td>0</td>\n",
       "    </tr>\n",
       "    <tr>\n",
       "      <th>10895</th>\n",
       "      <td>0</td>\n",
       "      <td>0.023410</td>\n",
       "      <td>0</td>\n",
       "    </tr>\n",
       "    <tr>\n",
       "      <th>44176</th>\n",
       "      <td>1</td>\n",
       "      <td>0.082594</td>\n",
       "      <td>0</td>\n",
       "    </tr>\n",
       "    <tr>\n",
       "      <th>26566</th>\n",
       "      <td>0</td>\n",
       "      <td>0.028458</td>\n",
       "      <td>0</td>\n",
       "    </tr>\n",
       "  </tbody>\n",
       "</table>\n",
       "<p>13498 rows × 3 columns</p>\n",
       "</div>"
      ],
      "text/plain": [
       "       A      Prob  P\n",
       "3374   0  0.384466  1\n",
       "602    1  0.817822  1\n",
       "33580  0  0.276564  1\n",
       "23082  0  0.046695  0\n",
       "31569  0  0.075174  0\n",
       "...   ..       ... ..\n",
       "2779   0  0.422463  1\n",
       "31573  0  0.065135  0\n",
       "10895  0  0.023410  0\n",
       "44176  1  0.082594  0\n",
       "26566  0  0.028458  0\n",
       "\n",
       "[13498 rows x 3 columns]"
      ]
     },
     "execution_count": 289,
     "metadata": {},
     "output_type": "execute_result"
    }
   ],
   "source": [
    "predict3 = model3Fit.predict(loanapprovalBinaryCalssifiactionTransformer3(testSet))\n",
    "testSet['predict3'] = predict3\n",
    "sumTable3 = pd.DataFrame({'A': testSet['loan_status'], 'Prob': testSet['predict3']})\n",
    "testSet['predictions'] = (testSet['predict3'] > 0.2).astype(int)\n",
    "sumTable3['P'] = testSet['predictions']\n",
    "sumTable3.to_csv(\"ROC.csv\", index=True)\n",
    "sumTable3"
   ]
  },
  {
   "cell_type": "code",
   "execution_count": 290,
   "id": "500dc46b-58f4-4a50-9d51-a8e0119122aa",
   "metadata": {},
   "outputs": [],
   "source": [
    "from sklearn.metrics import accuracy_score, recall_score, precision_score"
   ]
  },
  {
   "cell_type": "code",
   "execution_count": 291,
   "id": "0166197d-50ac-437e-8e3c-2fa6d5bbb7d5",
   "metadata": {},
   "outputs": [
    {
     "name": "stdout",
     "output_type": "stream",
     "text": [
      "Accuracy: 0.7504815528226404\n"
     ]
    }
   ],
   "source": [
    "# Calculate accuracy\n",
    "accuracy3 = accuracy_score(sumTable3['A'], sumTable3['P'])\n",
    "print(f'Accuracy: {accuracy3}')"
   ]
  },
  {
   "cell_type": "code",
   "execution_count": 292,
   "id": "c4d9ffbf-783a-42d1-a30c-0a6f13c295bb",
   "metadata": {},
   "outputs": [
    {
     "name": "stdout",
     "output_type": "stream",
     "text": [
      "Recall: 0.787\n"
     ]
    }
   ],
   "source": [
    "# Calculate recall\n",
    "recall3 = recall_score(sumTable3['A'], sumTable3['P'])\n",
    "print(f'Recall: {recall3}')"
   ]
  },
  {
   "cell_type": "code",
   "execution_count": 294,
   "id": "0a2760f2-4de8-41ae-bea7-74678ab48e3b",
   "metadata": {},
   "outputs": [
    {
     "name": "stdout",
     "output_type": "stream",
     "text": [
      "Precision: 0.4638506876227898\n"
     ]
    }
   ],
   "source": [
    "# Calculate precision\n",
    "precision3 = precision_score(sumTable3['A'], sumTable3['P'])\n",
    "print(f'Precision: {precision3}')"
   ]
  },
  {
   "cell_type": "code",
   "execution_count": 295,
   "id": "8f94967b-8f16-4b38-a88c-115fed87dd41",
   "metadata": {},
   "outputs": [
    {
     "name": "stdout",
     "output_type": "stream",
     "text": [
      "Sensitivity: 0.787\n",
      "Specificity: 0.7400457229948562\n"
     ]
    }
   ],
   "source": [
    "# Sensitivity and Specificity (Sensitivity is same as recall)\n",
    "sensitivity3 = recall3\n",
    "specificity3 = sum((sumTable3['A'] == 0) & (sumTable3['P'] == 0)) / sum(sumTable3['A'] == 0)\n",
    "print(f'Sensitivity: {sensitivity3}')\n",
    "print(f'Specificity: {specificity3}')"
   ]
  },
  {
   "cell_type": "code",
   "execution_count": 296,
   "id": "3d4a7c10-e0c2-4db0-bcf7-7872cc79ed29",
   "metadata": {},
   "outputs": [
    {
     "name": "stdout",
     "output_type": "stream",
     "text": [
      "F1 Score: 0.5836835599505562\n"
     ]
    }
   ],
   "source": [
    "# Calculate F1 Score\n",
    "f1Score3 = 2 * (precision3 * recall3) / (precision3 + recall3)\n",
    "print(f'F1 Score: {f1Score3}')"
   ]
  },
  {
   "cell_type": "code",
   "execution_count": 300,
   "id": "6f67a44f-085d-4f43-a6cf-d033c9796fb0",
   "metadata": {},
   "outputs": [
    {
     "name": "stdout",
     "output_type": "stream",
     "text": [
      "✅ Uploaded encrypted ZIP to s3://273-g3/group3_loan_approval_BinaryClassificationModel3__1.0.0.pkl.zip\n"
     ]
    },
    {
     "data": {
      "text/plain": [
       "{'_id': '685e02383b813e62d9fd3377',\n",
       " 'modelName': 'group3_loan_approval_BinaryClassificationModel3',\n",
       " 'version': '1.0.0',\n",
       " 'params': {'const': -6.862939630894656,\n",
       "  'person_age': 0.022074779793200897,\n",
       "  'person_income': 7.349742587436559e-07,\n",
       "  'person_emp_exp': -0.019931678808326362,\n",
       "  'loan_amnt': -0.00011098498855305164,\n",
       "  'loan_int_rate': 0.3349491013435982,\n",
       "  'loan_percent_income': 15.605632614847933,\n",
       "  'cb_person_cred_hist_length': -0.004758494305941623,\n",
       "  'credit_score': -0.0003199087185767168},\n",
       " 'score': 0.2615037621146349,\n",
       " 'otherEvaluationMetrics': {'accuracy': 0.7504815528226404,\n",
       "  'recall': 0.787,\n",
       "  'precision': 0.4638506876227898,\n",
       "  'sensitivity': 0.787,\n",
       "  'specificity': 0.7400457229948562,\n",
       "  'f1Score': 0.5836835599505562},\n",
       " 'modelLibrary': 'statsmodels.api.Logit',\n",
       " 'libraryMetadata': {'pvalues': {'const': 7.285962790176204e-108,\n",
       "   'person_age': 0.029999389349733393,\n",
       "   'person_income': 0.09279185054290598,\n",
       "   'person_emp_exp': 0.02528712399042844,\n",
       "   'loan_amnt': 2.235975150812683e-145,\n",
       "   'loan_int_rate': 0.0,\n",
       "   'loan_percent_income': 0.0,\n",
       "   'cb_person_cred_hist_length': 0.5874076062750946,\n",
       "   'credit_score': 0.32048181658464825},\n",
       "  'pseudo_r_squared': 0.2615037621146349,\n",
       "  'llf': -12321.432050929601,\n",
       "  'aic': 24660.864101859202,\n",
       "  'bic': 24736.082358597705},\n",
       " 'sampleData': {'dataForTransfer': [{'person_age': 64,\n",
       "    'person_income': 68127,\n",
       "    'person_emp_exp': 44,\n",
       "    'loan_amnt': 10000,\n",
       "    'loan_int_rate': 16.82,\n",
       "    'loan_percent_income': 0.15,\n",
       "    'cb_person_cred_hist_length': 18,\n",
       "    'credit_score': 690},\n",
       "   {'person_age': 23,\n",
       "    'person_income': 99919,\n",
       "    'person_emp_exp': 0,\n",
       "    'loan_amnt': 5000,\n",
       "    'loan_int_rate': 8.49,\n",
       "    'loan_percent_income': 0.05,\n",
       "    'cb_person_cred_hist_length': 4,\n",
       "    'credit_score': 676},\n",
       "   {'person_age': 23,\n",
       "    'person_income': 34728,\n",
       "    'person_emp_exp': 1,\n",
       "    'loan_amnt': 8400,\n",
       "    'loan_int_rate': 10.99,\n",
       "    'loan_percent_income': 0.24,\n",
       "    'cb_person_cred_hist_length': 2,\n",
       "    'credit_score': 661},\n",
       "   {'person_age': 29,\n",
       "    'person_income': 141611,\n",
       "    'person_emp_exp': 8,\n",
       "    'loan_amnt': 12000,\n",
       "    'loan_int_rate': 13.55,\n",
       "    'loan_percent_income': 0.08,\n",
       "    'cb_person_cred_hist_length': 8,\n",
       "    'credit_score': 612},\n",
       "   {'person_age': 24,\n",
       "    'person_income': 90234,\n",
       "    'person_emp_exp': 0,\n",
       "    'loan_amnt': 25000,\n",
       "    'loan_int_rate': 11.01,\n",
       "    'loan_percent_income': 0.28,\n",
       "    'cb_person_cred_hist_length': 4,\n",
       "    'credit_score': 499}]},\n",
       " 'modelType': 'model',\n",
       " 'keepLastOnly': False,\n",
       " 'modelSizeBytes': 2273073,\n",
       " 'zippedModelSizeBytes': 199259,\n",
       " 's3Url': '273-g3/group3_loan_approval_BinaryClassificationModel3__1.0.0.pkl.zip',\n",
       " 'createdAt': '2025-06-27T02:30:16.200Z',\n",
       " 'updatedAt': '2025-06-27T02:30:16.200Z'}"
      ]
     },
     "execution_count": 300,
     "metadata": {},
     "output_type": "execute_result"
    }
   ],
   "source": [
    "def to_float_dict(d):\n",
    "    return {k: float(v) for k, v in d.items()}\n",
    "\n",
    "def postprocessor(preds, original_input=None):\n",
    "    predicted_classes = (preds > 0.5).astype(int)\n",
    "    return {\"predictions\": predicted_classes.tolist()}\n",
    "\n",
    "model3Fit.transformer = loanapprovalBinaryCalssifiactionTransformer3\n",
    "model3Fit.mainPredictor = partial(generalRegressionPredictor, model3Fit)\n",
    "model3Fit.postprocessor = postprocessor \n",
    "\n",
    "registerAJrjModel(\n",
    "    model2Fit,\n",
    "    {\n",
    "        \"modelName\": \"group3_loan_approval_BinaryClassificationModel3\",\n",
    "        \"version\": \"1.0.0\",\n",
    "        \"params\": to_float_dict(model3Fit.params.to_dict()),\n",
    "        \"score\": float(model3Fit.prsquared),\n",
    "        \"otherEvaluationMetrics\": {\n",
    "            \"accuracy\": float(accuracy3),\n",
    "            \"recall\": float(recall3),\n",
    "            \"precision\": float(precision3),\n",
    "            \"sensitivity\": float(sensitivity3),\n",
    "            \"specificity\": float(specificity3),\n",
    "            \"f1Score\": float(f1Score3),\n",
    "        },\n",
    "        \"modelLibrary\": \"statsmodels.api.Logit\",\n",
    "        \"libraryMetadata\": {\n",
    "            \"pvalues\": to_float_dict(model3Fit.pvalues.to_dict()),\n",
    "            \"pseudo_r_squared\": float(model3Fit.prsquared),\n",
    "            \"llf\": float(model3Fit.llf),\n",
    "            \"aic\": float(model3Fit.aic),\n",
    "            \"bic\": float(model3Fit.bic)\n",
    "        },\n",
    "        \"sampleData\": {\n",
    "    \"dataForTransfer\": loanapprovalBinaryClassificationSampleData[['person_age', 'person_income', 'person_emp_exp', 'loan_amnt',\n",
    "    'loan_int_rate', 'loan_percent_income', 'cb_person_cred_hist_length', 'credit_score']]\n",
    "                           .head(5)\n",
    "                           .to_dict(orient=\"records\")\n",
    "\n",
    "        }\n",
    "    }\n",
    "\n",
    ")"
   ]
  }
 ],
 "metadata": {
  "kernelspec": {
   "display_name": "Python 3 (ipykernel)",
   "language": "python",
   "name": "python3"
  },
  "language_info": {
   "codemirror_mode": {
    "name": "ipython",
    "version": 3
   },
   "file_extension": ".py",
   "mimetype": "text/x-python",
   "name": "python",
   "nbconvert_exporter": "python",
   "pygments_lexer": "ipython3",
   "version": "3.13.3"
  }
 },
 "nbformat": 4,
 "nbformat_minor": 5
}
